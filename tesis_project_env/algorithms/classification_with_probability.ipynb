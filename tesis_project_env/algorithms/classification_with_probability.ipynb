{
 "cells": [
  {
   "cell_type": "markdown",
   "metadata": {},
   "source": [
    "* Se puden mejorar las mascaras haciendolas de un bit"
   ]
  },
  {
   "cell_type": "code",
   "execution_count": 2,
   "metadata": {
    "ExecuteTime": {
     "end_time": "2020-02-26T01:30:49.110313Z",
     "start_time": "2020-02-26T01:30:47.723410Z"
    }
   },
   "outputs": [],
   "source": [
    "# Image processing\n",
    "import cv2\n",
    "import numpy as np\n",
    "import os\n",
    "import glob\n",
    "from ipynb.fs.full.Utils import *"
   ]
  },
  {
   "cell_type": "code",
   "execution_count": 6,
   "metadata": {
    "ExecuteTime": {
     "end_time": "2020-02-26T01:32:15.175758Z",
     "start_time": "2020-02-26T01:32:15.136347Z"
    }
   },
   "outputs": [],
   "source": [
    "# Para mostrar una imagen\n",
    "def mostrar_img(lbl, img, reduction_ratio=0):\n",
    "    mostrar_imgs([lbl],[img], reduction_ratio)\n",
    "\n",
    "# Para mostrar varias imágenes\n",
    "def mostrar_imgs(lbls, vec_img, reduction_ratio=0):\n",
    "    if ((reduction_ratio >= 1) or (reduction_ratio < 0)):\n",
    "        reduction_ratio = 0\n",
    "    for i in range(len(vec_img)):\n",
    "        h = vec_img[i].shape[0]\n",
    "        h = (int)(h - (h*reduction_ratio))\n",
    "        w = vec_img[i].shape[1]\n",
    "        w = (int)(w - (w*reduction_ratio))\n",
    "        img_rs = cv2.resize(vec_img[i], (w, h))\n",
    "        cv2.imshow(lbls[i], img_rs)\n",
    "    cv2.waitKey(0)\n",
    "    cv2.destroyAllWindows()\n",
    "    \n",
    "###Para escalar la imagen de 0 a max_value\n",
    "def scaling(img, max_value):\n",
    "    amax = np.amax(img)\n",
    "    amin = np.amin(img)\n",
    "    scalingIndex = max_value/(amax-amin)\n",
    "    img = ((img-amin)*scalingIndex)\n",
    "    img = img.astype(np.uint8)\n",
    "    return img\n",
    "\n",
    "### Devuelve el porcentaje de vegetación que hay en la imágen (255 es vegetación)\n",
    "def get_total_vegetation(binary_img):\n",
    "    return (np.sum(binary_img == 255) / (binary_img.shape[0] * binary_img.shape[1]))\n",
    "\n",
    "### Busca los puntos máximos de una distribución (Buscar librerías en C++)\n",
    "def get_maximum_points(img, winSize):\n",
    "    #Generación de histograma\n",
    "    histogram = column_histogram(img)\n",
    "    #Suavizado de histograma\n",
    "    min_dist = int(winSize/2)\n",
    "    winMidSize = int(min_dist/2)\n",
    "    smoothed = np.zeros(histogram.shape, np.int16)\n",
    "    for i in range(0, len(histogram)):\n",
    "        total = 0\n",
    "        for j in range(0, min_dist):\n",
    "            tmp = i - winMidSize + j\n",
    "            if (tmp >= 0 and  tmp < len(histogram)):\n",
    "                total += histogram[tmp]\n",
    "        smoothed[i] = int(total/min_dist)\n",
    "    #Detección de máximos locales\n",
    "    indexes = []\n",
    "    indexes.append(0)\n",
    "    local_maximas = 1\n",
    "    min_dist = winSize*1.2\n",
    "    winMidSize = int(winSize/2)\n",
    "    flagMeceta = False\n",
    "    distance_counter = 0\n",
    "    for i in range(0, len(histogram)-winSize):\n",
    "        for j in range(winMidSize, winSize):\n",
    "            tmp = i - winMidSize + j\n",
    "            if (min_dist < tmp - indexes[local_maximas-1]):\n",
    "                indexes.append(tmp)\n",
    "                local_maximas += 1\n",
    "            else:\n",
    "                if (smoothed[tmp] > smoothed[indexes[local_maximas-1]]):\n",
    "                    indexes[local_maximas-1] = tmp\n",
    "                    distance_counter = 0\n",
    "                    flagMeceta = False\n",
    "                else:\n",
    "                    if (smoothed[tmp] == smoothed[indexes[local_maximas-1]]):\n",
    "                        flagMeceta = True\n",
    "                        distance_counter += 1\n",
    "                    else:\n",
    "                        if (flagMeceta):\n",
    "                            indexes[local_maximas-1] = indexes[local_maximas-1] + int((tmp - indexes[local_maximas-1])/2)\n",
    "                            distance_counter = 0\n",
    "                            flagMeceta = False\n",
    "    #Gráfica\n",
    "    indexes = np.array(indexes, np.int16)\n",
    "    #------------------------#\n",
    "    if (debugging):\n",
    "        x = np.arange(0, img.shape[1], 1)\n",
    "        fig, ax = plt.subplots()\n",
    "        ax.plot(x, smoothed)\n",
    "        ax.scatter(indexes, smoothed[indexes], c='blue')\n",
    "        ax.grid()\n",
    "        plt.show()\n",
    "    #------------------------#\n",
    "    return indexes\n",
    "\n",
    "# Devuelve 1 si la posición enviada pertenece al cultivo, -1 si pertenece a la maleza\n",
    "def is_crop_or_furrow_lineal(lines, p0, crop_width):\n",
    "    # Crop: 1, Crop furrow: -1, None: 0¿\n",
    "    if (len(lines) != 0):\n",
    "        x, y = p0\n",
    "        h_buffer = {}\n",
    "        h_buffer[0] = lines[0].get_y(x)\n",
    "        most_left = h_buffer[0] - crop_width\n",
    "        most_right = h_buffer[0] + crop_width\n",
    "        for line_index in range(1, len(lines)):\n",
    "            h_buffer[line_index] = lines[line_index].get_y(x)\n",
    "            most_left = min(most_left, h_buffer[line_index] - crop_width)\n",
    "            most_right = max(most_right, h_buffer[line_index] + crop_width)\n",
    "        if (y <= most_left or y >= most_right): #Caso a izquierda de primera linea o a derecha de última línea\n",
    "                return 0\n",
    "        for key in h_buffer.keys():  # Paso por cada curva\n",
    "            c_left = h_buffer[key] - crop_width\n",
    "            c_right = h_buffer[key] + crop_width\n",
    "            if (y <= c_right and y >= c_left): #Si está dentro de alguna franja de cultivo, es surco\n",
    "                return 1\n",
    "        return -1 #Si no es ninguno de los otros, el entre surco\n",
    "    else:\n",
    "        return 0\n",
    "\n",
    "# Escalar los valores para que no tenga overflow, ver como modifican los escalares\n",
    "def least_squares_line(x_list, y_list, last_point):\n",
    "    # Calcular el centroide en vez de usar point0\n",
    "#     xc, yc = np.sum(x_list)/len(x_list), np.sum(y_list)/len(y_list)\n",
    "    yc, xc = last_point\n",
    "    x_list, y_list = np.array(x_list, np.uint32), np.array(y_list, np.uint32)\n",
    "    sum_x, sum_y = np.sum(x_list), np.sum(y_list)\n",
    "    sum_xy = np.sum(np.multiply(x_list, y_list))\n",
    "    sum_x_squared = np.sum(np.multiply(x_list, x_list))\n",
    "    numerator = x_list.shape[0] * sum_xy - (sum_x * sum_y)\n",
    "    denominator = x_list.shape[0] * sum_x_squared - (sum_x * sum_x)\n",
    "    # Si 0 es denominador, es una recta vertical, la pendiente es infinito\n",
    "    m = numerator / denominator# if denominator != 0 else 999 \n",
    "#     xc, y_p0 = point0\n",
    "    b = int(yc - m * xc)\n",
    "    return m, b  # Coeficientes: Lineal y independiente\n",
    "\n",
    "### Promedio de una lista de valores\n",
    "def mean(values_list):\n",
    "    values_list = np.array(values_list, np.uint64)\n",
    "    return (np.sum(values_list) / values_list.shape[0])\n",
    "\n",
    "### Devuelve el máximo de ancho entre puntos en paralela al eje de coordenadas\n",
    "def get_max_distance(indexes):\n",
    "    max_distance = 0\n",
    "    for i in range(1, indexes.shape[0]):\n",
    "        max_distance = max(max_distance, (indexes[i] - indexes[i-1]))\n",
    "    return max_distance\n",
    "\n",
    "class Line:\n",
    "    #Si la pendiente es mayor a 80, se toma como recta vertical y se debe usar x_offset\n",
    "    def __init__(self, m, b):\n",
    "        self.m = m\n",
    "        self.b = b\n",
    "        self.white_amount = -1\n",
    "\n",
    "     # Devuelve la cantidad de vegetación (255) que hay en una recta\n",
    "    def set_white_amount(self, img):\n",
    "        sum = 0\n",
    "        for i in range(0, img.shape[0]):\n",
    "            h = self.get_y(i)\n",
    "            if (h >= 0 and h < img.shape[1]):\n",
    "                if (img[i, h] > 0):\n",
    "                    sum = sum + 1\n",
    "        self.white_amount = sum\n",
    "        \n",
    "    def __str__(self):\n",
    "        return 'm: ' + str(self.m) + ' - b: ' + str(self.b) + ' - x_offset: ' + str(self.x_offset) + ' - white amount: ' + str(self.white_amount)\n",
    "    \n",
    "    # Devuelve el valor de x en una recta, dada su altura (y), si la pendiente es muy pronunciada, se toma como recta vertical\n",
    "    def get_y(self, x):\n",
    "#         return self.x_offset if (self.m >= 80) else int((y-self.b)/self.m)\n",
    "        return int(x*self.m+self.b)\n",
    "    \n",
    "    def __copy__(self):\n",
    "        return Line(self.m, self.b)\n",
    "\n",
    "class MicroROI:\n",
    "    def __init__(self, microimg, h_offset, v_offset):\n",
    "        vert_sum, horiz_sum, _sum = 0, 0, 0\n",
    "        vc, hc = int(microimg.shape[0] / 2), int(microimg.shape[1] / 2)\n",
    "        for h in range(0, microimg.shape[1]):\n",
    "            for v in range(0, microimg.shape[0]):\n",
    "                if (microimg[v, h] > 0):  # Cambiar a binario\n",
    "                    vert_sum, horiz_sum, _sum = vert_sum + v, horiz_sum + h, _sum + 1\n",
    "        if (_sum != 0):\n",
    "            vc, hc = int(vert_sum / _sum), int(horiz_sum / _sum)\n",
    "        self.vc, self.hc = vc + v_offset, hc + h_offset\n",
    "        \n",
    "    def get_centroid(self):\n",
    "        return self.vc, self.hc\n",
    "\n",
    "### Devuelve la imágen con el índice seleccionado aplicado\n",
    "def img_to_color_index(img, index):\n",
    "    if (index == 'cive'):\n",
    "        return get_CIVE(img)\n",
    "    elif (index == 'exg'):\n",
    "        return get_ExG(img)\n",
    "    else:\n",
    "        return img\n",
    "\n",
    "def get_normalized(img):\n",
    "    img = img.astype(np.uint16)\n",
    "    denominator = img[:, :, 0] + img[:, :, 1] + img[:, :, 2]\n",
    "    # Max 255+255+255, Min 1\n",
    "    denominator = np.where(denominator == 0, 1, denominator)\n",
    "    return cv2.merge((img[:, :, 0]/denominator, img[:, :, 1]/denominator, img[:, :, 2]/denominator))\n",
    "\n",
    "def get_CIVE(img):\n",
    "    img_norm = get_normalized(img)\n",
    "    return 0.441*img_norm[:, :, 0]-0.811*img_norm[:, :, 1]+0.385*img_norm[:, :, 2]+18.78745\n",
    "\n",
    "def get_ExG(img):\n",
    "    r, g, b = cv2.split(img)\n",
    "    r_mx = np.amax(r)\n",
    "    g_mx = np.amax(g)\n",
    "    b_mx = np.amax(b)\n",
    "    if (r_mx == 0):\n",
    "        r_mx = 1\n",
    "    if (g_mx == 0):\n",
    "        g_mx = 1\n",
    "    if (b_mx == 0):\n",
    "        b_mx = 1\n",
    "    r = r / r_mx\n",
    "    g = g / g_mx\n",
    "    b = b / b_mx\n",
    "    denominator = r + g + b\n",
    "    denominator = np.where(denominator == 0, 1, denominator)\n",
    "    r = r / denominator\n",
    "    g = g / denominator\n",
    "    b = b / denominator\n",
    "    return 2*g-r-b\n",
    "\n",
    "### Devuelve el histograma de columnas (para imágenes de 8 bits de profundidad, 255 = blanco)\n",
    "def column_histogram(img_in):\n",
    "    vector = np.zeros(img_in.shape[1], np.uint16)\n",
    "    for col in range(0, img_in.shape[1]):\n",
    "        vector[col] = np.sum(img_in[:, col] > 0)\n",
    "    return vector\n",
    "\n",
    "# Para realizar un corte en el margen superior de la imagen\n",
    "def v_crop_top(img, crop_ratio):\n",
    "    if (crop_ratio < 0 or crop_ratio > 1):\n",
    "        crop_ratio = 0\n",
    "    h2 = img.shape[0]\n",
    "    h1 = (int)(h2*crop_ratio)\n",
    "    w = img.shape[1]\n",
    "    return img[h1:h2, 0:w]"
   ]
  },
  {
   "cell_type": "markdown",
   "metadata": {},
   "source": [
    "# Variables de configuración"
   ]
  },
  {
   "cell_type": "code",
   "execution_count": 3,
   "metadata": {
    "ExecuteTime": {
     "end_time": "2020-02-26T01:30:49.590627Z",
     "start_time": "2020-02-26T01:30:49.586667Z"
    }
   },
   "outputs": [],
   "source": [
    "segments_amount = 20 #Cantidad de segmentos\n",
    "window_ratio = 0.05 # 5% con 1024 son ventanas de 51 píxeles (ojo porque quedan pixeles a la derecha si procesar)\n",
    "top_crop_ratio = 0.1\n",
    "width_crop_ratio = 0.1"
   ]
  },
  {
   "cell_type": "markdown",
   "metadata": {},
   "source": [
    "### Cargado de imágenes de prueba para detección de lineas de cultivo"
   ]
  },
  {
   "cell_type": "code",
   "execution_count": 5,
   "metadata": {
    "ExecuteTime": {
     "end_time": "2020-02-26T01:31:39.088086Z",
     "start_time": "2020-02-26T01:31:38.129306Z"
    }
   },
   "outputs": [
    {
     "name": "stdout",
     "output_type": "stream",
     "text": [
      "img/consecutive\\test26.png\n",
      "img/consecutive\\test27.png\n",
      "img/consecutive\\test28.png\n",
      "img/consecutive\\test29.png\n",
      "img/consecutive\\test30.png\n",
      "img/consecutive\\test31.png\n",
      "img/consecutive\\test32.png\n"
     ]
    }
   ],
   "source": [
    "#Levantar imagenes test de row_test\n",
    "# img_path = \"img/row_test_artificial/\"\n",
    "img_path = \"img/consecutive/\"\n",
    "#img_path = \"img/enhancement_test/\"\n",
    "images_in = []\n",
    "labels = []\n",
    "\n",
    "for file in glob.glob(img_path + '*.png'):\n",
    "# for file in glob.glob(img_path + 'IMG_*.png'):\n",
    "    img = cv2.imread(file, cv2.IMREAD_COLOR)\n",
    "#     hsv = cv2.cvtColor(img, cv2.COLOR_RGB2HSV)\n",
    "    images_in.append()\n",
    "#     images_in.append(v_crop_top(hsv_enhancement(hsv), top_crop_ratio))\n",
    "    labels.append(os.path.splitext(os.path.basename(file))[0])\n",
    "    (os.path.basename(file))\n",
    "    print(file)"
   ]
  },
  {
   "cell_type": "markdown",
   "metadata": {},
   "source": [
    "### Segmentación por verde\n",
    "Se puede agregar otros indices para mejorar la segmentación\n",
    "\n",
    "Con índice de Pagola detecta, lo que a ojímetro parecen, sectores de planta con más vida\n",
    "\n",
    "* Si se utiliza en HSV usar *segment_by_color*"
   ]
  },
  {
   "cell_type": "code",
   "execution_count": 10,
   "metadata": {},
   "outputs": [],
   "source": [
    "#Segmentación por verde\n",
    "seg_imgs = []\n",
    "\n",
    "kernel_e = np.ones((3,3),np.uint8)\n",
    "kernel_d = np.array(([0,1,0],[1,1,1],[0,1,0]),np.uint8)\n",
    "kernel1 = np.array(([0,1,0],[1,1,1],[0,1,0]),np.uint8)\n",
    "kernel2 = np.array(([1,0,1],[0,1,0],[1,0,1]),np.uint8)\n",
    "\n",
    "for img in images_in:\n",
    "    gray_bin = segment_by_color(img, binary=True)\n",
    "    #Erase lo suficiente para borrar puntos, y dilatate para recuperar masa de lo mayor\n",
    "#     gray_bin = cv2.erode(gray_bin, kernel_e,iterations=1)\n",
    "#     gray_bin = cv2.dilate(gray_bin, kernel_d,iterations=2)\n",
    "#     gray_bin = cv2.erode(gray_bin, kernel_e,iterations=1)\n",
    "    seg_imgs.append(gray_bin)"
   ]
  },
  {
   "cell_type": "code",
   "execution_count": 11,
   "metadata": {},
   "outputs": [],
   "source": [
    "img_show_list = []\n",
    "for img in seg_imgs:\n",
    "        img_show_list.append(img.astype('uint8')*255)\n",
    "mostrar_imgs(labels, img_show_list)"
   ]
  },
  {
   "cell_type": "code",
   "execution_count": 12,
   "metadata": {},
   "outputs": [],
   "source": [
    "#Si se usa binario, usar el box de abajo\n",
    "mostrar_imgs(labels, seg_imgs)"
   ]
  },
  {
   "cell_type": "markdown",
   "metadata": {},
   "source": [
    "### Operatoria para consegir lineas de cultivo (RCRD)\n",
    "Hay dos posibilidades, la segunda funciona mejor cuando hay un conjunto \"grande\" de imágenes relacionadas\n",
    "* Si se usa la primera descomentar *gray_bin = segment_by_color(img)* y comentar la siguiente\n",
    "* Si se usa la segunda decomentar *gray_bin = segment_by_color_binary(img)* y comentar la anterior"
   ]
  },
  {
   "cell_type": "code",
   "execution_count": 35,
   "metadata": {},
   "outputs": [],
   "source": [
    "# Sería con probabilidad de 1\n",
    "seg_and = seg_imgs[0].copy()\n",
    "for seg in seg_imgs:\n",
    "    seg_and = cv2.bitwise_and(seg_and, seg_and, mask = seg)\n",
    "#Los bordes van  a clasificarse mal si no los recorto (problema de tener fotos no consecutivas)\n",
    "# cropped = h_crop(seg_and,0.1)"
   ]
  },
  {
   "cell_type": "code",
   "execution_count": 13,
   "metadata": {},
   "outputs": [],
   "source": [
    "# Mediante probabilidades, aumenta el número de imágenes y aumenta la probabilidad de la fila\n",
    "green_amount = 0.4\n",
    "seg_and = np.zeros(seg_imgs[0].shape, np.uint8)\n",
    "for seg in seg_imgs:\n",
    "    seg_and = seg_and + seg\n",
    "_max = (int)(np.amax(seg_and)*green_amount)\n",
    "seg_and = cv2.GaussianBlur(seg_and,(7,7),cv2.BORDER_DEFAULT)\n",
    "ret,seg_and = cv2.threshold(seg_and, _max,255,cv2.THRESH_BINARY)\n",
    "# cropped = h_crop(seg_and,0.1)\n",
    "mostrar_img('seg', seg_and)"
   ]
  },
  {
   "cell_type": "code",
   "execution_count": 48,
   "metadata": {},
   "outputs": [],
   "source": [
    "#No aplicar\n",
    "# kernel_d1 = np.ones((3,3), np.uint8)\n",
    "# kernel_e1 = np.ones((2,2), np.uint8) \n",
    "# kernel_e2 = np.ones((5,5), np.uint8) \n",
    "# # seg_hough = cv2.dilate(seg_and, kernel, iterations=1)\n",
    "# seg_hough = cv2.erode(seg_and, kernel_e1, iterations=1)\n",
    "# seg_hough = cv2.dilate(seg_hough, kernel_d1, iterations=2)\n",
    "# seg_hough = cv2.erode(seg_hough, kernel_e2, iterations=1)\n",
    "# mostrar_img('seg', seg_hough)"
   ]
  },
  {
   "cell_type": "markdown",
   "metadata": {},
   "source": [
    "### Imagen de prueba para clasificación\n",
    "Se segmenta y se calculan bordes para tener referencia visual (No lo requiere el algoritmo final)"
   ]
  },
  {
   "cell_type": "code",
   "execution_count": 59,
   "metadata": {},
   "outputs": [],
   "source": [
    "file_name = 'artificial_1'\n",
    "original_td = cv2.imread(img_path + file_name + '.png', cv2.IMREAD_COLOR)\n",
    "# original_td = h_crop(original_td, 0.1) #Para que queden de igual ancho\n",
    "to_detect = cv2.cvtColor(original_td, cv2.COLOR_RGB2HSV)\n",
    "to_detect = v_crop_top(segment_by_color(to_detect), top_crop_ratio)"
   ]
  },
  {
   "cell_type": "code",
   "execution_count": 60,
   "metadata": {},
   "outputs": [],
   "source": [
    "kernel = np.ones((3,3), np.uint8) \n",
    "to_detect = cv2.erode(to_detect, kernel, iterations=1)"
   ]
  },
  {
   "cell_type": "code",
   "execution_count": 61,
   "metadata": {},
   "outputs": [],
   "source": [
    "# mostrar_img('to_detect', to_detect)"
   ]
  },
  {
   "cell_type": "code",
   "execution_count": 63,
   "metadata": {},
   "outputs": [],
   "source": [
    "to_detect_edge = cv2.Canny(to_detect,50,150)\n",
    "zeros = np.zeros(to_detect.shape, np.uint8)\n",
    "three_channel_edge = cv2.merge((to_detect, zeros, zeros))\n",
    "mostrar_img('edges canny', three_channel_edge)"
   ]
  },
  {
   "cell_type": "markdown",
   "metadata": {},
   "source": [
    "### Clasificación (FIP + RCRD)\n",
    "Trabajo en segmentos, divide la imagen en 20 segmentos (se puede optar por análizar solo la parte inferior, los primeros 15 segmentos)"
   ]
  },
  {
   "cell_type": "code",
   "execution_count": 64,
   "metadata": {},
   "outputs": [],
   "source": [
    "td_h, td_w = to_detect.shape\n",
    "seg_height = (int)(td_h/segments_amount)\n",
    "steps = (int)(td_h/seg_height) #Si td_h no es múltiplo de la cantidad de seg => steps != segments_amount\n",
    "window_width = (int)(td_w*window_ratio)\n",
    "\n",
    "#RCRD descripto como vectores para que sea más rápido verificar\n",
    "offset_seg_height = 0\n",
    "rcrd_vectors = np.zeros((steps, td_w), np.bool)\n",
    "for i in range(0,steps):\n",
    "    segment = seg_and[offset_seg_height:offset_seg_height + seg_height, 0:td_w]\n",
    "    rcrd_vectors[i,:] = calculate_row(segment, seg_height, td_w)\n",
    "    offset_seg_height = offset_seg_height + seg_height"
   ]
  },
  {
   "cell_type": "code",
   "execution_count": 71,
   "metadata": {},
   "outputs": [],
   "source": [
    "def is_crop(window):\n",
    "    return True\n",
    "    sum = 0\n",
    "    for elem in window:\n",
    "        if elem:\n",
    "            sum = sum + 1\n",
    "    sz = np.size(window)\n",
    "    return ((sum/sz) > 0.80)\n",
    "        \n",
    "def verificate_with_rcrd(seg_index, window_pos, window_width):\n",
    "#     return True\n",
    "    return np.any(rcrd_vectors[seg_index, window_pos:window_pos + window_width])"
   ]
  },
  {
   "cell_type": "markdown",
   "metadata": {},
   "source": [
    "#### Probar con bandas de verde"
   ]
  },
  {
   "cell_type": "code",
   "execution_count": null,
   "metadata": {},
   "outputs": [],
   "source": [
    "\n",
    "for seg_index in range(0,steps):\n",
    "    segment = to_detect[offset_seg_height:offset_seg_height + seg_height,0:td_w]\n",
    "    vector = calculate_row(segment, seg_height, td_w)\n",
    "    "
   ]
  },
  {
   "cell_type": "code",
   "execution_count": 72,
   "metadata": {},
   "outputs": [],
   "source": [
    "#FIP\n",
    "offset_seg_height = 0\n",
    "\n",
    "# from matplotlib import pyplot as plt\n",
    "# x = np.arange(0,td_w) \n",
    "three_ch_copy = three_channel_edge.copy()\n",
    "\n",
    "#La imagen la voy recorriendo de abajo hacia arriba\n",
    "for seg_index in range(0, steps):\n",
    "    #Calculo los vectores de cada segmento\n",
    "    segment = to_detect[offset_seg_height:offset_seg_height + seg_height,0:td_w]\n",
    "    vector = calculate_row(segment, seg_height, td_w)\n",
    "    \n",
    "    #Todo lo que no sea crop, es weed\n",
    "    window_pos = 0;\n",
    "    while (window_pos < td_w - window_width ):\n",
    "        #Hay algo mal en el algoritmo\n",
    "        if (is_crop(vector[window_pos:window_pos + window_width])):\n",
    "            if (verificate_with_rcrd(seg_index, window_pos, window_width)):\n",
    "            #Luego de verificar que sea crop, pinto ese sector\n",
    "                sector = three_ch_copy[offset_seg_height:offset_seg_height + seg_height, window_pos: window_pos + window_width]\n",
    "                sec_b, sec_g, sec_r = cv2.split(sector)\n",
    "                sector = cv2.merge((sec_r, sec_g, sec_b)) #Lo pinto dando vuelta los canales\n",
    "                three_ch_copy[offset_seg_height:offset_seg_height + seg_height, window_pos: window_pos + window_width] = sector\n",
    "                window_pos = window_pos + window_width\n",
    "            else:\n",
    "                window_pos = window_pos + 1\n",
    "        else:\n",
    "            window_pos = window_pos + 1\n",
    "    offset_seg_height = offset_seg_height + seg_height"
   ]
  },
  {
   "cell_type": "code",
   "execution_count": 73,
   "metadata": {},
   "outputs": [],
   "source": [
    "mostrar_img('th', three_ch_copy)"
   ]
  },
  {
   "cell_type": "markdown",
   "metadata": {},
   "source": [
    "### Region growing"
   ]
  },
  {
   "cell_type": "code",
   "execution_count": 68,
   "metadata": {},
   "outputs": [],
   "source": [
    "#De manera recursiva repinta lo que encuentre a su alrededor\n",
    "def paint(pixel):\n",
    "    if (pixel[0]):\n",
    "        aux = pixel[0]\n",
    "        pixel [0] = pixel[2]\n",
    "        pixel[2] = aux\n",
    "\n",
    "def contagio(img, y_init, x_init):\n",
    "    img_h, img_w, ch = img.shape\n",
    "    x1= x_init-1\n",
    "    x2= x_init+1\n",
    "    y1= y_init-1\n",
    "    y2= y_init+1\n",
    "    if (x1 >= 0):\n",
    "        paint(img[y_init,x1])\n",
    "    if (x2 < img_w):\n",
    "        paint(img[y_init,x2])\n",
    "    if (y1 >= 0):\n",
    "        paint(img[y1,x_init])\n",
    "    if (y2 < img_h):\n",
    "        paint(img[y2,x_init])"
   ]
  },
  {
   "cell_type": "code",
   "execution_count": 69,
   "metadata": {},
   "outputs": [],
   "source": [
    "three_ch_copy2 = three_ch_copy.copy()\n",
    "for y in range(0,td_h-1):\n",
    "    for x in range(0,td_w-1):\n",
    "        if (three_ch_copy2[y,x,2]): #BGR, el contagio es con R\n",
    "            contagio(three_ch_copy2, y, x)\n",
    "mostrar_imgs(['th contagio','th'], [three_ch_copy2, three_ch_copy])"
   ]
  },
  {
   "cell_type": "code",
   "execution_count": null,
   "metadata": {},
   "outputs": [],
   "source": [
    "#Colorearlo en imagen de bordes (Poner valor 255 en segundo (crop) o tercer canal (weed)) \n",
    "#Sumar bordes clasificados con imagen \n",
    "result = cv2.add(original_td, three_ch_copy2)"
   ]
  },
  {
   "cell_type": "code",
   "execution_count": null,
   "metadata": {},
   "outputs": [],
   "source": [
    "mostrar_img('resultado', result)"
   ]
  },
  {
   "cell_type": "markdown",
   "metadata": {},
   "source": [
    "### Guardado de imágenes"
   ]
  },
  {
   "cell_type": "code",
   "execution_count": null,
   "metadata": {},
   "outputs": [],
   "source": [
    "#Guardar resultado\n",
    "file_name='total'\n",
    "cv2.imwrite('img/row_test/' + file_name + '_resultado2.png', result)\n",
    "# cv2.imwrite('img/row_test/' + file_name + '_with_lines.png', with_lines)"
   ]
  },
  {
   "cell_type": "code",
   "execution_count": null,
   "metadata": {},
   "outputs": [],
   "source": []
  }
 ],
 "metadata": {
  "kernelspec": {
   "display_name": "Python 3",
   "language": "python",
   "name": "python3"
  },
  "language_info": {
   "codemirror_mode": {
    "name": "ipython",
    "version": 3
   },
   "file_extension": ".py",
   "mimetype": "text/x-python",
   "name": "python",
   "nbconvert_exporter": "python",
   "pygments_lexer": "ipython3",
   "version": "3.7.5"
  },
  "toc": {
   "base_numbering": 1,
   "nav_menu": {},
   "number_sections": true,
   "sideBar": true,
   "skip_h1_title": false,
   "title_cell": "Table of Contents",
   "title_sidebar": "Contents",
   "toc_cell": false,
   "toc_position": {},
   "toc_section_display": true,
   "toc_window_display": false
  },
  "varInspector": {
   "cols": {
    "lenName": 16,
    "lenType": 16,
    "lenVar": 40
   },
   "kernels_config": {
    "python": {
     "delete_cmd_postfix": "",
     "delete_cmd_prefix": "del ",
     "library": "var_list.py",
     "varRefreshCmd": "print(var_dic_list())"
    },
    "r": {
     "delete_cmd_postfix": ") ",
     "delete_cmd_prefix": "rm(",
     "library": "var_list.r",
     "varRefreshCmd": "cat(var_dic_list()) "
    }
   },
   "types_to_exclude": [
    "module",
    "function",
    "builtin_function_or_method",
    "instance",
    "_Feature"
   ],
   "window_display": false
  }
 },
 "nbformat": 4,
 "nbformat_minor": 2
}
