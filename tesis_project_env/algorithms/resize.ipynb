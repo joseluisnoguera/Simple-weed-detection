{
 "cells": [
  {
   "cell_type": "code",
   "execution_count": 4,
   "metadata": {
    "ExecuteTime": {
     "end_time": "2020-03-08T03:26:41.339186Z",
     "start_time": "2020-03-08T03:26:41.335196Z"
    }
   },
   "outputs": [],
   "source": [
    "import cv2\n",
    "import numpy as np\n",
    "import os\n",
    "import glob\n",
    "from ipynb.fs.full.Utils import *"
   ]
  },
  {
   "cell_type": "code",
   "execution_count": 5,
   "metadata": {
    "ExecuteTime": {
     "end_time": "2020-03-08T03:26:42.139237Z",
     "start_time": "2020-03-08T03:26:41.340833Z"
    }
   },
   "outputs": [
    {
     "name": "stdout",
     "output_type": "stream",
     "text": [
      "img/test/originals_rs_2\\test10_rs.png\n",
      "img/test/originals_rs_2\\test11_rs.png\n",
      "img/test/originals_rs_2\\test12_rs.png\n",
      "img/test/originals_rs_2\\test13_rs.png\n",
      "img/test/originals_rs_2\\test14_rs.png\n",
      "img/test/originals_rs_2\\test15_rs.png\n",
      "img/test/originals_rs_2\\test16_rs.png\n",
      "img/test/originals_rs_2\\test17_rs.png\n",
      "img/test/originals_rs_2\\test18_rs.png\n",
      "img/test/originals_rs_2\\test19_rs.png\n",
      "img/test/originals_rs_2\\test1_rs.png\n",
      "img/test/originals_rs_2\\test20_rs.png\n",
      "img/test/originals_rs_2\\test21_rs.png\n",
      "img/test/originals_rs_2\\test22_rs.png\n",
      "img/test/originals_rs_2\\test23_rs.png\n",
      "img/test/originals_rs_2\\test24_rs.png\n",
      "img/test/originals_rs_2\\test25_rs.png\n",
      "img/test/originals_rs_2\\test26_rs.png\n",
      "img/test/originals_rs_2\\test27_rs.png\n",
      "img/test/originals_rs_2\\test28_rs.png\n",
      "img/test/originals_rs_2\\test29_rs.png\n",
      "img/test/originals_rs_2\\test2_rs.png\n",
      "img/test/originals_rs_2\\test30_rs.png\n",
      "img/test/originals_rs_2\\test31_rs.png\n",
      "img/test/originals_rs_2\\test32_rs.png\n",
      "img/test/originals_rs_2\\test3_rs.png\n",
      "img/test/originals_rs_2\\test4_rs.png\n",
      "img/test/originals_rs_2\\test5_rs.png\n",
      "img/test/originals_rs_2\\test6_rs.png\n",
      "img/test/originals_rs_2\\test7_rs.png\n",
      "img/test/originals_rs_2\\test8_rs.png\n",
      "img/test/originals_rs_2\\test9_rs.png\n"
     ]
    }
   ],
   "source": [
    "img_path = \"img/test/originals_rs_2/\"\n",
    "images_in = []\n",
    "labels = []\n",
    "\n",
    "for file in glob.glob(img_path + '*.png'):\n",
    "# for file in glob.glob(img_path + 'IMG_*.png'):\n",
    "    img = cv2.imread(file, cv2.IMREAD_COLOR)\n",
    "#     hsv = cv2.cvtColor(img, cv2.COLOR_RGB2HSV)\n",
    "    images_in.append(img)\n",
    "#     images_in.append(v_crop_top(hsv_enhancement(hsv), top_crop_ratio))\n",
    "    labels.append(os.path.splitext(os.path.basename(file))[0])\n",
    "    (os.path.basename(file))\n",
    "    print(file)"
   ]
  },
  {
   "cell_type": "code",
   "execution_count": 7,
   "metadata": {
    "ExecuteTime": {
     "end_time": "2020-03-08T03:27:13.214927Z",
     "start_time": "2020-03-08T03:27:13.141706Z"
    }
   },
   "outputs": [
    {
     "name": "stdout",
     "output_type": "stream",
     "text": [
      "0, 1, 2, 3, 4, 5, 6, 7, 8, 9, 10, 11, 12, 13, 14, 15, 16, 17, 18, 19, 20, 21, 22, 23, 24, 25, 26, 27, 28, 29, 30, 31, "
     ]
    }
   ],
   "source": [
    "for i in range(0,len(images_in)):\n",
    "#     dim = (1280,720)\n",
    "#     resized = cv2.resize(images_in[i], dim, interpolation = cv2.INTER_AREA)\n",
    "    cv2.imwrite(img_path + labels[i]+ '.bmp', images_in[i])\n",
    "    print(str(i) + ', ',end='')"
   ]
  },
  {
   "cell_type": "code",
   "execution_count": null,
   "metadata": {},
   "outputs": [],
   "source": []
  }
 ],
 "metadata": {
  "kernelspec": {
   "display_name": "Python 3.7.5 64-bit",
   "language": "python",
   "name": "python37564bit93d6bf42c0fe40628eecf0bc0d7c6786"
  },
  "language_info": {
   "codemirror_mode": {
    "name": "ipython",
    "version": 3
   },
   "file_extension": ".py",
   "mimetype": "text/x-python",
   "name": "python",
   "nbconvert_exporter": "python",
   "pygments_lexer": "ipython3",
   "version": "3.7.5"
  },
  "toc": {
   "base_numbering": 1,
   "nav_menu": {},
   "number_sections": true,
   "sideBar": true,
   "skip_h1_title": false,
   "title_cell": "Table of Contents",
   "title_sidebar": "Contents",
   "toc_cell": false,
   "toc_position": {},
   "toc_section_display": true,
   "toc_window_display": false
  },
  "varInspector": {
   "cols": {
    "lenName": 16,
    "lenType": 16,
    "lenVar": 40
   },
   "kernels_config": {
    "python": {
     "delete_cmd_postfix": "",
     "delete_cmd_prefix": "del ",
     "library": "var_list.py",
     "varRefreshCmd": "print(var_dic_list())"
    },
    "r": {
     "delete_cmd_postfix": ") ",
     "delete_cmd_prefix": "rm(",
     "library": "var_list.r",
     "varRefreshCmd": "cat(var_dic_list()) "
    }
   },
   "types_to_exclude": [
    "module",
    "function",
    "builtin_function_or_method",
    "instance",
    "_Feature"
   ],
   "window_display": false
  }
 },
 "nbformat": 4,
 "nbformat_minor": 2
}
