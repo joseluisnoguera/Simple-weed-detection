{
 "cells": [
  {
   "cell_type": "code",
   "execution_count": 1,
   "metadata": {},
   "outputs": [],
   "source": [
    "import numpy as np\n",
    "from numpy.linalg import inv"
   ]
  },
  {
   "cell_type": "code",
   "execution_count": 6,
   "metadata": {},
   "outputs": [],
   "source": [
    "def least_squares_cuadratic(x_list, y_list):\n",
    "    matrix = np.zeros((3, 3), np.float32)\n",
    "    vector = np.zeros((3), np.float32)\n",
    "    scalar_factor = 100\n",
    "    x_list = np.true_divide(x_list, scalar_factor) # Escalo para que las sumatorias no se vayan de rango\n",
    "    y_list = np.true_divide(y_list, scalar_factor)\n",
    "    matrix[0, 0] = x_list.shape[0]\n",
    "    matrix[1, 0] = np.sum(x_list)\n",
    "    matrix[0, 1] = matrix[1, 0]\n",
    "    x_pow_2 = np.multiply(x_list, x_list)\n",
    "    matrix[0, 2] = np.sum(x_pow_2)\n",
    "    matrix[1, 1] = matrix[0, 2]\n",
    "    matrix[2, 0] = matrix[0, 2]\n",
    "    x_pow_3 = np.multiply(x_list, x_pow_2)\n",
    "    matrix[1, 2] = np.sum(x_pow_3)\n",
    "    matrix[2, 1] = matrix[1, 2]\n",
    "    matrix[2, 2] = np.sum(np.multiply(x_list, x_pow_3))\n",
    "    vector[0] = np.sum(y_list)\n",
    "    vector[1] = np.sum(np.multiply(x_list, y_list))\n",
    "    vector[2] = np.sum(np.multiply(x_pow_2, y_list))\n",
    "    matrix_inv = inv(matrix)\n",
    "    print('matriz inv')\n",
    "    print(matrix_inv)\n",
    "    print('vector')\n",
    "    print(vector)\n",
    "    # multiplicar matriz con vector A*v\n",
    "    c = np.dot(matrix_inv[0, 0:3], vector) * scalar_factor\n",
    "    b = np.dot(matrix_inv[1, 0:3], vector)\n",
    "    a = np.dot(matrix_inv[2, 0:3], vector) / scalar_factor\n",
    "    return a, b, c  # Coeficientes: cuadrático, lineal y independiente"
   ]
  },
  {
   "cell_type": "code",
   "execution_count": 7,
   "metadata": {},
   "outputs": [
    {
     "name": "stdout",
     "output_type": "stream",
     "text": [
      "matriz inv\n",
      "[[   13.39151  -147.52109   321.25238]\n",
      " [ -147.52109  1685.8267  -3734.7961 ]\n",
      " [  321.25238 -3734.7961   8407.447  ]]\n",
      "vector\n",
      "[1.4      0.1605   0.021895]\n",
      "[12  9 17 34]\n",
      "[36 85 14  5]\n",
      "a: 0.3439958190917969 b: -17.727692 c: 210.47992706298828\n"
     ]
    }
   ],
   "source": [
    "x = np.array([12, 9, 17, 34])\n",
    "y = np.array([36, 85, 14, 5])\n",
    "# x = np.true_divide(x,100)\n",
    "# y = np.true_divide(y,100)\n",
    "a,b,c = least_squares_cuadratic(x,y)\n",
    "print(x)\n",
    "print(y)\n",
    "print('a: ' + str(a) + ' b: ' + str(b) + ' c: ' + str(c))"
   ]
  },
  {
   "cell_type": "code",
   "execution_count": 28,
   "metadata": {},
   "outputs": [
    {
     "data": {
      "text/plain": [
       "3.4028235e+38"
      ]
     },
     "execution_count": 28,
     "metadata": {},
     "output_type": "execute_result"
    }
   ],
   "source": [
    "a: 0.3439939754296397 b: -17.727582641144494 c: 210.47900279872636"
   ]
  }
 ],
 "metadata": {
  "kernelspec": {
   "display_name": "Python 3",
   "language": "python",
   "name": "python3"
  },
  "language_info": {
   "codemirror_mode": {
    "name": "ipython",
    "version": 3
   },
   "file_extension": ".py",
   "mimetype": "text/x-python",
   "name": "python",
   "nbconvert_exporter": "python",
   "pygments_lexer": "ipython3",
   "version": "3.7.5"
  },
  "toc": {
   "base_numbering": 1,
   "nav_menu": {},
   "number_sections": true,
   "sideBar": true,
   "skip_h1_title": false,
   "title_cell": "Table of Contents",
   "title_sidebar": "Contents",
   "toc_cell": false,
   "toc_position": {},
   "toc_section_display": true,
   "toc_window_display": false
  }
 },
 "nbformat": 4,
 "nbformat_minor": 2
}
