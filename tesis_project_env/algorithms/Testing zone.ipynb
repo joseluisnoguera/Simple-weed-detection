{
 "cells": [
  {
   "cell_type": "code",
   "execution_count": 3,
   "metadata": {
    "ExecuteTime": {
     "end_time": "2020-02-03T14:42:23.847640Z",
     "start_time": "2020-02-03T14:42:23.334978Z"
    }
   },
   "outputs": [],
   "source": [
    "import numpy as np\n",
    "from numpy.linalg import inv\n",
    "import cv2\n",
    "from ipynb.fs.full.Utils import *"
   ]
  },
  {
   "cell_type": "code",
   "execution_count": 6,
   "metadata": {},
   "outputs": [],
   "source": [
    "def least_squares_cuadratic(x_list, y_list):\n",
    "    matrix = np.zeros((3, 3), np.float32)\n",
    "    vector = np.zeros((3), np.float32)\n",
    "    scalar_factor = 100\n",
    "    x_list = np.true_divide(x_list, scalar_factor) # Escalo para que las sumatorias no se vayan de rango\n",
    "    y_list = np.true_divide(y_list, scalar_factor)\n",
    "    matrix[0, 0] = x_list.shape[0]\n",
    "    matrix[1, 0] = np.sum(x_list)\n",
    "    matrix[0, 1] = matrix[1, 0]\n",
    "    x_pow_2 = np.multiply(x_list, x_list)\n",
    "    matrix[0, 2] = np.sum(x_pow_2)\n",
    "    matrix[1, 1] = matrix[0, 2]\n",
    "    matrix[2, 0] = matrix[0, 2]\n",
    "    x_pow_3 = np.multiply(x_list, x_pow_2)\n",
    "    matrix[1, 2] = np.sum(x_pow_3)\n",
    "    matrix[2, 1] = matrix[1, 2]\n",
    "    matrix[2, 2] = np.sum(np.multiply(x_list, x_pow_3))\n",
    "    vector[0] = np.sum(y_list)\n",
    "    vector[1] = np.sum(np.multiply(x_list, y_list))\n",
    "    vector[2] = np.sum(np.multiply(x_pow_2, y_list))\n",
    "    matrix_inv = inv(matrix)\n",
    "    print('matriz inv')\n",
    "    print(matrix_inv)\n",
    "    print('vector')\n",
    "    print(vector)\n",
    "    # multiplicar matriz con vector A*v\n",
    "    c = np.dot(matrix_inv[0, 0:3], vector) * scalar_factor\n",
    "    b = np.dot(matrix_inv[1, 0:3], vector)\n",
    "    a = np.dot(matrix_inv[2, 0:3], vector) / scalar_factor\n",
    "    return a, b, c  # Coeficientes: cuadrático, lineal y independiente"
   ]
  },
  {
   "cell_type": "code",
   "execution_count": 7,
   "metadata": {},
   "outputs": [
    {
     "name": "stdout",
     "output_type": "stream",
     "text": [
      "matriz inv\n",
      "[[   13.39151  -147.52109   321.25238]\n",
      " [ -147.52109  1685.8267  -3734.7961 ]\n",
      " [  321.25238 -3734.7961   8407.447  ]]\n",
      "vector\n",
      "[1.4      0.1605   0.021895]\n",
      "[12  9 17 34]\n",
      "[36 85 14  5]\n",
      "a: 0.3439958190917969 b: -17.727692 c: 210.47992706298828\n"
     ]
    }
   ],
   "source": [
    "x = np.array([12, 9, 17, 34])\n",
    "y = np.array([36, 85, 14, 5])\n",
    "# x = np.true_divide(x,100)\n",
    "# y = np.true_divide(y,100)\n",
    "a,b,c = least_squares_cuadratic(x,y)\n",
    "print(x)\n",
    "print(y)\n",
    "print('a: ' + str(a) + ' b: ' + str(b) + ' c: ' + str(c))"
   ]
  },
  {
   "cell_type": "code",
   "execution_count": 28,
   "metadata": {},
   "outputs": [
    {
     "data": {
      "text/plain": [
       "3.4028235e+38"
      ]
     },
     "execution_count": 28,
     "metadata": {},
     "output_type": "execute_result"
    }
   ],
   "source": [
    "a: 0.3439939754296397 b: -17.727582641144494 c: 210.47900279872636"
   ]
  },
  {
   "cell_type": "code",
   "execution_count": 4,
   "metadata": {
    "ExecuteTime": {
     "end_time": "2020-02-03T14:42:29.583200Z",
     "start_time": "2020-02-03T14:42:26.351937Z"
    }
   },
   "outputs": [],
   "source": [
    "reduction_to_see = 0.5\n",
    "path_to_imgs = 'img/test/'\n",
    "file_name = 'test1'\n",
    "_original = cv2.imread(path_to_imgs + file_name + '.png', cv2.IMREAD_COLOR)\n",
    "if _original is None:\n",
    "    print('Warning: imagen no cargada')\n",
    "else:\n",
    "# original, file_name = take_random_picture(path_to_imgs, 'test', 'jpg')\n",
    "     mostrar_img(file_name,_original, reduction_to_see)"
   ]
  },
  {
   "cell_type": "code",
   "execution_count": 6,
   "metadata": {
    "ExecuteTime": {
     "end_time": "2020-02-03T14:52:22.889022Z",
     "start_time": "2020-02-03T14:52:22.883010Z"
    }
   },
   "outputs": [],
   "source": [
    "def get_ExG(img):\n",
    "    r, g, b = cv2.split(img)\n",
    "    r_mx = np.amax(r)\n",
    "    g_mx = np.amax(g)\n",
    "    b_mx = np.amax(b)\n",
    "    if (r_mx == 0):\n",
    "        r_mx = 1\n",
    "    if (g_mx == 0):\n",
    "        g_mx = 1\n",
    "    if (b_mx == 0):\n",
    "        b_mx = 1\n",
    "    r = r / r_mx\n",
    "    g = g / g_mx\n",
    "    b = b / b_mx\n",
    "    denominator = r + g + b\n",
    "    denominator = np.where(denominator == 0, 1, denominator)\n",
    "    r = r / denominator\n",
    "    g = g / denominator\n",
    "    b = b / denominator\n",
    "    return 2*g-r-b"
   ]
  },
  {
   "cell_type": "code",
   "execution_count": 7,
   "metadata": {
    "ExecuteTime": {
     "end_time": "2020-02-03T14:52:25.989415Z",
     "start_time": "2020-02-03T14:52:24.230023Z"
    }
   },
   "outputs": [],
   "source": [
    "final = get_ExG(_original)\n",
    "mostrar_img(file_name, final, reduction_to_see)"
   ]
  },
  {
   "cell_type": "code",
   "execution_count": 3,
   "metadata": {
    "ExecuteTime": {
     "end_time": "2020-02-07T22:36:33.181144Z",
     "start_time": "2020-02-07T22:36:33.177124Z"
    }
   },
   "outputs": [
    {
     "name": "stdout",
     "output_type": "stream",
     "text": [
      "[1 2 3 4]\n"
     ]
    }
   ],
   "source": [
    "y = np.array([1,2,3,4,5,6], np.uint8)\n",
    "print(y[0:4])"
   ]
  }
 ],
 "metadata": {
  "kernelspec": {
   "display_name": "Python 3",
   "language": "python",
   "name": "python3"
  },
  "language_info": {
   "codemirror_mode": {
    "name": "ipython",
    "version": 3
   },
   "file_extension": ".py",
   "mimetype": "text/x-python",
   "name": "python",
   "nbconvert_exporter": "python",
   "pygments_lexer": "ipython3",
   "version": "3.7.5"
  },
  "toc": {
   "base_numbering": 1,
   "nav_menu": {},
   "number_sections": true,
   "sideBar": true,
   "skip_h1_title": false,
   "title_cell": "Table of Contents",
   "title_sidebar": "Contents",
   "toc_cell": false,
   "toc_position": {},
   "toc_section_display": true,
   "toc_window_display": false
  },
  "varInspector": {
   "cols": {
    "lenName": 16,
    "lenType": 16,
    "lenVar": 40
   },
   "kernels_config": {
    "python": {
     "delete_cmd_postfix": "",
     "delete_cmd_prefix": "del ",
     "library": "var_list.py",
     "varRefreshCmd": "print(var_dic_list())"
    },
    "r": {
     "delete_cmd_postfix": ") ",
     "delete_cmd_prefix": "rm(",
     "library": "var_list.r",
     "varRefreshCmd": "cat(var_dic_list()) "
    }
   },
   "types_to_exclude": [
    "module",
    "function",
    "builtin_function_or_method",
    "instance",
    "_Feature"
   ],
   "window_display": false
  }
 },
 "nbformat": 4,
 "nbformat_minor": 2
}
