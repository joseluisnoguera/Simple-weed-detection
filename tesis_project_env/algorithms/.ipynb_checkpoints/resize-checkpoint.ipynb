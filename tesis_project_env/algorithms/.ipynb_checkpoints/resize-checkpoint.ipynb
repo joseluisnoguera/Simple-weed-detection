{
 "cells": [
  {
   "cell_type": "code",
   "execution_count": 13,
   "metadata": {
    "ExecuteTime": {
     "end_time": "2020-02-27T04:57:49.415350Z",
     "start_time": "2020-02-27T04:57:49.411358Z"
    }
   },
   "outputs": [],
   "source": [
    "import cv2\n",
    "import numpy as np\n",
    "import os\n",
    "import glob\n",
    "from ipynb.fs.full.Utils import *"
   ]
  },
  {
   "cell_type": "code",
   "execution_count": 14,
   "metadata": {
    "ExecuteTime": {
     "end_time": "2020-02-27T04:57:53.827539Z",
     "start_time": "2020-02-27T04:57:49.417342Z"
    }
   },
   "outputs": [
    {
     "name": "stdout",
     "output_type": "stream",
     "text": [
      "img/test/originals_rs\\test1.png\n",
      "img/test/originals_rs\\test10.png\n",
      "img/test/originals_rs\\test11.png\n",
      "img/test/originals_rs\\test12.png\n",
      "img/test/originals_rs\\test13.png\n",
      "img/test/originals_rs\\test14.png\n",
      "img/test/originals_rs\\test15.png\n",
      "img/test/originals_rs\\test16.png\n",
      "img/test/originals_rs\\test17.png\n",
      "img/test/originals_rs\\test18.png\n",
      "img/test/originals_rs\\test19.png\n",
      "img/test/originals_rs\\test2.png\n",
      "img/test/originals_rs\\test20.png\n",
      "img/test/originals_rs\\test21.png\n",
      "img/test/originals_rs\\test22.png\n",
      "img/test/originals_rs\\test23.png\n",
      "img/test/originals_rs\\test24.png\n",
      "img/test/originals_rs\\test25.png\n",
      "img/test/originals_rs\\test26.png\n",
      "img/test/originals_rs\\test27.png\n",
      "img/test/originals_rs\\test28.png\n",
      "img/test/originals_rs\\test29.png\n",
      "img/test/originals_rs\\test3.png\n",
      "img/test/originals_rs\\test30.png\n",
      "img/test/originals_rs\\test31.png\n",
      "img/test/originals_rs\\test32.png\n",
      "img/test/originals_rs\\test4.png\n",
      "img/test/originals_rs\\test5.png\n",
      "img/test/originals_rs\\test6.png\n",
      "img/test/originals_rs\\test7.png\n",
      "img/test/originals_rs\\test8.png\n",
      "img/test/originals_rs\\test9.png\n"
     ]
    }
   ],
   "source": [
    "img_path = \"img/test/originals_rs/\"\n",
    "images_in = []\n",
    "labels = []\n",
    "\n",
    "for file in glob.glob(img_path + '*.png'):\n",
    "# for file in glob.glob(img_path + 'IMG_*.png'):\n",
    "    img = cv2.imread(file, cv2.IMREAD_COLOR)\n",
    "#     hsv = cv2.cvtColor(img, cv2.COLOR_RGB2HSV)\n",
    "    images_in.append(img)\n",
    "#     images_in.append(v_crop_top(hsv_enhancement(hsv), top_crop_ratio))\n",
    "    labels.append(os.path.splitext(os.path.basename(file))[0])\n",
    "    (os.path.basename(file))\n",
    "    print(file)"
   ]
  },
  {
   "cell_type": "code",
   "execution_count": 15,
   "metadata": {
    "ExecuteTime": {
     "end_time": "2020-02-27T04:57:57.432300Z",
     "start_time": "2020-02-27T04:57:53.828537Z"
    }
   },
   "outputs": [
    {
     "name": "stdout",
     "output_type": "stream",
     "text": [
      "0, 1, 2, 3, 4, 5, 6, 7, 8, 9, 10, 11, 12, 13, 14, 15, 16, 17, 18, 19, 20, 21, 22, 23, 24, 25, 26, 27, 28, 29, 30, 31, "
     ]
    }
   ],
   "source": [
    "for i in range(0,len(images_in)):\n",
    "    dim = (1920,1080)\n",
    "    resized = cv2.resize(images_in[i], dim, interpolation = cv2.INTER_AREA)\n",
    "    cv2.imwrite(img_path + labels[i]+ '_rs' + '.png', resized)\n",
    "    print(str(i) + ', ',end='')"
   ]
  }
 ],
 "metadata": {
  "kernelspec": {
   "display_name": "Python 3.7.5 64-bit",
   "language": "python",
   "name": "python37564bit93d6bf42c0fe40628eecf0bc0d7c6786"
  },
  "language_info": {
   "codemirror_mode": {
    "name": "ipython",
    "version": 3
   },
   "file_extension": ".py",
   "mimetype": "text/x-python",
   "name": "python",
   "nbconvert_exporter": "python",
   "pygments_lexer": "ipython3",
   "version": "3.7.5"
  },
  "toc": {
   "base_numbering": 1,
   "nav_menu": {},
   "number_sections": true,
   "sideBar": true,
   "skip_h1_title": false,
   "title_cell": "Table of Contents",
   "title_sidebar": "Contents",
   "toc_cell": false,
   "toc_position": {},
   "toc_section_display": true,
   "toc_window_display": false
  },
  "varInspector": {
   "cols": {
    "lenName": 16,
    "lenType": 16,
    "lenVar": 40
   },
   "kernels_config": {
    "python": {
     "delete_cmd_postfix": "",
     "delete_cmd_prefix": "del ",
     "library": "var_list.py",
     "varRefreshCmd": "print(var_dic_list())"
    },
    "r": {
     "delete_cmd_postfix": ") ",
     "delete_cmd_prefix": "rm(",
     "library": "var_list.r",
     "varRefreshCmd": "cat(var_dic_list()) "
    }
   },
   "types_to_exclude": [
    "module",
    "function",
    "builtin_function_or_method",
    "instance",
    "_Feature"
   ],
   "window_display": false
  }
 },
 "nbformat": 4,
 "nbformat_minor": 2
}
