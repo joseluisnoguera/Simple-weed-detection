{
 "cells": [
  {
   "cell_type": "code",
   "execution_count": 1,
   "metadata": {
    "ExecuteTime": {
     "end_time": "2020-02-09T20:49:11.268172Z",
     "start_time": "2020-02-09T20:49:10.948722Z"
    }
   },
   "outputs": [],
   "source": [
    "import cv2\n",
    "import numpy as np\n",
    "# import random\n",
    "from numpy.linalg import inv\n",
    "from scipy.signal import savgol_filter # Buscar implementación en C++\n",
    "import peakutils # Buscar implementación en C++"
   ]
  },
  {
   "cell_type": "markdown",
   "metadata": {},
   "source": [
    "#### Funciones para mostrar imágenes"
   ]
  },
  {
   "cell_type": "code",
   "execution_count": 2,
   "metadata": {
    "ExecuteTime": {
     "end_time": "2020-02-09T20:49:13.149005Z",
     "start_time": "2020-02-09T20:49:13.140026Z"
    }
   },
   "outputs": [],
   "source": [
    "# def mostrar_img_HSV(lbl, img, reduction_ratio=0):\n",
    "#     if reduction_ratio >= 1:\n",
    "#         reduction_ratio = 0\n",
    "#     h = img.shape[0]\n",
    "#     h = (int)(h - h*reduction_ratio)\n",
    "#     w = img.shape[1]\n",
    "#     w = (int)(w - w*reduction_ratio)\n",
    "#     rgb = cv2.cvtColor(img, cv2.COLOR_HSV2RGB)\n",
    "#     img_rs = cv2.resize(rgb, (w, h))\n",
    "#     cv2.imshow(lbl, img_rs)\n",
    "#     cv2.waitKey(0)\n",
    "#     cv2.destroyAllWindows()\n",
    "\n",
    "# def mostrar_imgs_HSV(lbls, vec_img, reduction_ratio=0):\n",
    "#     if reduction_ratio >= 1:\n",
    "#         reduction_ratio = 0\n",
    "#     for i in range(len(vec_img)):\n",
    "#         h = vec_img[i].shape[0]\n",
    "#         h = (int)(h - h*reduction_ratio)\n",
    "#         w = vec_img[i].shape[1]\n",
    "#         w = (int)(w - w*reduction_ratio)\n",
    "#         rgb = cv2.cvtColor(vec_img[i], cv2.COLOR_HSV2RGB)\n",
    "#         img_rs = cv2.resize(rgb, (w, h))\n",
    "#         cv2.imshow(lbls[i], img_rs)\n",
    "#     cv2.waitKey(0)\n",
    "#     cv2.destroyAllWindows()\n",
    "\n",
    "# Para mostrar una imagen\n",
    "def mostrar_img(lbl, img, reduction_ratio=0):\n",
    "    mostrar_imgs([lbl],[img], reduction_ratio)\n",
    "\n",
    "# Para mostrar varias imágenes\n",
    "def mostrar_imgs(lbls, vec_img, reduction_ratio=0):\n",
    "    if ((reduction_ratio >= 1) or (reduction_ratio < 0)):\n",
    "        reduction_ratio = 0\n",
    "    for i in range(len(vec_img)):\n",
    "        h = vec_img[i].shape[0]\n",
    "        h = (int)(h - (h*reduction_ratio))\n",
    "        w = vec_img[i].shape[1]\n",
    "        w = (int)(w - (w*reduction_ratio))\n",
    "        img_rs = cv2.resize(vec_img[i], (w, h))\n",
    "        cv2.imshow(lbls[i], img_rs)\n",
    "    cv2.waitKey(0)\n",
    "    cv2.destroyAllWindows()\n",
    "    \n",
    "#Para escalar la imagen de 0 a max_value\n",
    "def scaling(img, max_value):\n",
    "    amax = np.amax(img)\n",
    "    amin = np.amin(img)\n",
    "    scalingIndex = max_value/(amax-amin)\n",
    "    img = ((img-amin)*scalingIndex)\n",
    "    img = img.astype(np.uint8)\n",
    "    return img"
   ]
  },
  {
   "cell_type": "markdown",
   "metadata": {},
   "source": [
    "#### Enfoque: acumulación de vegetación"
   ]
  },
  {
   "cell_type": "code",
   "execution_count": 3,
   "metadata": {
    "ExecuteTime": {
     "end_time": "2020-02-09T20:49:16.318184Z",
     "start_time": "2020-02-09T20:49:16.311876Z"
    }
   },
   "outputs": [
    {
     "ename": "SyntaxError",
     "evalue": "invalid syntax (<ipython-input-3-9e93c87ee00b>, line 4)",
     "output_type": "error",
     "traceback": [
      "\u001b[1;36m  File \u001b[1;32m\"<ipython-input-3-9e93c87ee00b>\"\u001b[1;36m, line \u001b[1;32m4\u001b[0m\n\u001b[1;33m    for i in range(0, img.shape[0])\u001b[0m\n\u001b[1;37m                                   ^\u001b[0m\n\u001b[1;31mSyntaxError\u001b[0m\u001b[1;31m:\u001b[0m invalid syntax\n"
     ]
    }
   ],
   "source": [
    "### Cuadraticas no implementado\n",
    "# def get_vegetation_in_quadratic(img, a, b, c, x):\n",
    "#     sum = 0\n",
    "#     for i in range(0, img.shape[0]):\n",
    "#         if (img[i, int(x[i])] == 255):\n",
    "#             sum = sum + 1\n",
    "#     return sum\n",
    "\n",
    "# Devuelve el porcentaje de vegetación que hay en la imágen (255 es vegetación)\n",
    "def get_total_vegetation(binary_img):\n",
    "    return (np.sum(binary_img == 255) / (binary_img.shape[0] * binary_img.shape[1]))"
   ]
  },
  {
   "cell_type": "markdown",
   "metadata": {},
   "source": [
    "#### Varios (matemáticos)"
   ]
  },
  {
   "cell_type": "code",
   "execution_count": 4,
   "metadata": {
    "ExecuteTime": {
     "end_time": "2020-02-12T20:48:01.546854Z",
     "start_time": "2020-02-12T20:48:01.532858Z"
    }
   },
   "outputs": [],
   "source": [
    "# Busca los puntos máximos de una distribución (Buscar librerías en C++)\n",
    "def get_maximum_points(img, winSize):\n",
    "    histogram = column_histogram(img)\n",
    "    winMidSize = int(winSize/2)\n",
    "    smoothed = np.zeros(histogram.shape, np.int16)\n",
    "    for i in range(0, len(histogram)):\n",
    "        total = 0\n",
    "        for j in range(0, winSize):\n",
    "            tmp = i - winMidSize + j\n",
    "            if (tmp >= 0 and  tmp < len(histogram)):\n",
    "                total += histogram[tmp]\n",
    "        smoothed[i] = int(total/winSize)\n",
    "    indexes = []\n",
    "    indexes.append(0)\n",
    "    local_maximas = 1\n",
    "    min_dist=winSize*1.8\n",
    "    for i in range(0, len(histogram)-winSize):\n",
    "        for j in range(winMidSize, winSize):\n",
    "            tmp = i - winMidSize + j\n",
    "            if (min_dist < tmp - indexes[local_maximas-1]):\n",
    "                indexes.append(tmp)\n",
    "                local_maximas += 1\n",
    "            else:\n",
    "                if (smoothed[tmp] > smoothed[indexes[local_maximas-1]]):\n",
    "                    indexes[local_maximas-1] = tmp\n",
    "    return np.array(indexes, np.int16)\n",
    "\n",
    "#     histogram = column_histogram(img)\n",
    "#     window_length = int(winSize*0.4)\n",
    "#     window_length = window_length+1 if (window_length%2==0) else window_length\n",
    "#     smoothed_2dg = (savgol_filter(histogram, window_length=window_length,\n",
    "#                                   polyorder=1)).astype(np.int16)\n",
    "\n",
    "#     return peakutils.indexes(smoothed_2dg, thres=0.05/max(smoothed_2dg), min_dist=winSize*1.5)\n",
    "\n",
    "# Devuelve 1 si la posición enviada pertenece al cultivo, -1 si pertenece a la maleza\n",
    "def is_crop_or_furrow_lineal(lines, p0, crop_width, furrow_width):\n",
    "    # Crop: 1, Crop furrow: -1, None: 0¿\n",
    "    x, y = p0\n",
    "    x_buffer = {}\n",
    "    x_buffer[0] = lines[0].get_x(y)\n",
    "    most_left = x_buffer[0] - crop_width\n",
    "    most_right = x_buffer[0] + crop_width\n",
    "    for line_index in range(1, len(lines)):\n",
    "        x_buffer[line_index] = lines[line_index].get_x(y)\n",
    "        most_left = min(most_left, x_buffer[line_index] - crop_width)\n",
    "        most_right = max(most_right, x_buffer[line_index] + crop_width)\n",
    "    if (x < most_left or x > most_right): #Caso a izquierda de primera linea o a derecha de última línea\n",
    "            return 0\n",
    "    for key in x_buffer.keys():  # Paso por cada curva\n",
    "        if (x <= x_buffer[key] + crop_width and x >= x_buffer[key] - crop_width): #Si está dentro de alguna franja de cultivo, es surco\n",
    "            return 1\n",
    "        else:\n",
    "            return -1\n",
    "\n",
    "# def is_crop_or_furrow_quadratic(coef, p0, width):\n",
    "#     x, y = p0\n",
    "#     flag = False\n",
    "#     # TODO\n",
    "#     return flag"
   ]
  },
  {
   "cell_type": "markdown",
   "metadata": {},
   "source": [
    "#### Funciones para mínimos cuadrados (lineal y cuadrático)"
   ]
  },
  {
   "cell_type": "code",
   "execution_count": 10,
   "metadata": {},
   "outputs": [],
   "source": [
    "# def get_x_in_quadratic(y, a, b, c):\n",
    "#     xv = -b/(2*a)\n",
    "#     yv = a * xv * xv + b * xv + c\n",
    "#     return np.round(np.sqrt(np.true_divide(y - yv, a)) + xv), np.round(-np.sqrt(np.true_divide(y - yv, a)) + xv)\n",
    "#     return np.around((a * (np.multiply(x, x)) + b*x + c), decimals=-1)\n",
    "\n",
    "# Escalar los valores para que no tenga overflow, ver como modifican los escalares\n",
    "def least_squares_line(x_list, y_list, point0):\n",
    "    x_list, y_list = np.array(x_list, np.uint64), np.array(y_list, np.uint64)\n",
    "    scalar_factor = 100\n",
    "    x_list, y_list = np.true_divide(x_list, scalar_factor), np.true_divide(y_list, scalar_factor)\n",
    "    sum_x, sum_y = np.sum(x_list), np.sum(y_list)\n",
    "    sum_xy = np.sum(np.multiply(x_list, y_list))\n",
    "    sum_x_squared = np.sum(np.multiply(x_list, x_list))\n",
    "    numerator = x_list.shape[0] * sum_xy - (sum_x * sum_y)\n",
    "    denominator = x_list.shape[0] * sum_x_squared - (sum_x * sum_x)\n",
    "    # Si 0 es denominador, es una recta vertical, la pendiente es infinito\n",
    "    m = numerator / denominator if denominator != 0 else 9999 \n",
    "    x_p0, y_p0 = point0\n",
    "    b = int(y_p0 - m * x_p0)\n",
    "    return m, b  # Coeficientes: Lineal y independiente\n",
    "\n",
    "\n",
    "# def least_squares_quadratic(x_list, y_list):\n",
    "#     matrix = np.zeros((3, 3), np.float32)\n",
    "#     vector = np.zeros((3), np.float32)\n",
    "#     # Escalo para que las sumatorias no se vayan de rango (Parece que no se van de rango)\n",
    "#     scalar_factor = 10\n",
    "#     x_list = np.true_divide(x_list, scalar_factor)\n",
    "#     y_list = np.true_divide(y_list, scalar_factor)\n",
    "#     matrix[0, 0] = x_list.shape[0]\n",
    "#     matrix[1, 0] = np.sum(x_list)\n",
    "#     matrix[0, 1] = matrix[1, 0]\n",
    "#     x_pow_2 = np.multiply(x_list, x_list)\n",
    "#     matrix[0, 2] = np.sum(x_pow_2)\n",
    "#     matrix[1, 1] = matrix[0, 2]\n",
    "#     matrix[2, 0] = matrix[0, 2]\n",
    "#     x_pow_3 = np.multiply(x_list, x_pow_2)\n",
    "#     matrix[1, 2] = np.sum(x_pow_3)\n",
    "#     matrix[2, 1] = matrix[1, 2]\n",
    "#     matrix[2, 2] = np.sum(np.multiply(x_list, x_pow_3))\n",
    "#     vector[0] = np.sum(y_list)\n",
    "#     vector[1] = np.sum(np.multiply(x_list, y_list))\n",
    "#     vector[2] = np.sum(np.multiply(x_pow_2, y_list))\n",
    "#     matrix_inv = inv(matrix)\n",
    "#     # multiplicar matriz con vector A*v\n",
    "#     c = np.dot(matrix_inv[0, 0:3], vector) * \\\n",
    "#         scalar_factor  # Por alguna razón, sino no dá\n",
    "#     b = np.dot(matrix_inv[1, 0:3], vector)\n",
    "#     a = np.dot(matrix_inv[2, 0:3], vector) / scalar_factor\n",
    "#     return a, b, c  # Coeficientes: cuadrático, lineal y independiente\n",
    "\n",
    "# Promedio de una lista de valores\n",
    "def mean(values_list):\n",
    "    values_list = np.array(values_list, np.uint64)\n",
    "    return (np.sum(values_list) / values_list.shape[0])\n",
    "\n",
    "# Devuelve el promedio de ancho entre puntos en paralela al eje de coordenadas\n",
    "# def get_mean_distance(indexes):\n",
    "#     mean = 0\n",
    "#     for i in range(1, indexes.shape[0]):\n",
    "#         mean = mean + (indexes[i] - indexes[i-1])\n",
    "#     return mean / (indexes.shape[0]-1)\n",
    "\n",
    "# Devuelve el máximo de ancho entre puntos en paralela al eje de coordenadas\n",
    "def get_max_distance(indexes):\n",
    "    max_distance = 0\n",
    "    for i in range(1, indexes.shape[0]):\n",
    "        max_distance = max(max_distance, (indexes[i] - indexes[i-1]))\n",
    "    return max_distance"
   ]
  },
  {
   "cell_type": "markdown",
   "metadata": {},
   "source": [
    "#### Clases"
   ]
  },
  {
   "cell_type": "code",
   "execution_count": 11,
   "metadata": {},
   "outputs": [],
   "source": [
    "class Line:\n",
    "    #Si la pendiente es mayor a 80, se toma como recta vertical y se debe usar x_offset\n",
    "    def __init__(self, m, b=0, x_offset=0):\n",
    "        self.m = m\n",
    "        self.b = b\n",
    "        self.x_offset = int(x_offset)\n",
    "        self.white_amount = -1\n",
    "\n",
    "     # Devuelve la cantidad de vegetación (255) que hay en una recta\n",
    "    def set_white_amount(self, img):\n",
    "        sum = 0\n",
    "        for i in range(0, img.shape[0]):\n",
    "            x = self.get_x(i)\n",
    "            if (x >= 0 and x < img.shape[1]):\n",
    "                if (img[i, x] > 0):\n",
    "                    sum = sum + 1\n",
    "        self.white_amount = sum\n",
    "        \n",
    "    def __str__(self):\n",
    "        return 'm: ' + str(self.m) + ' - b: ' + str(self.b) + ' - x_offset: ' + str(self.x_offset) + ' - white amount: ' + str(self.white_amount)\n",
    "    \n",
    "    # Devuelve el valor de x en una recta, dada su altura (y), si la pendiente es muy pronunciada, se toma como recta vertical\n",
    "    def get_x(self, y):\n",
    "        return self.x_offset if (self.m >= 30) else int((y-self.b)/self.m)\n",
    "    \n",
    "    def __copy__(self):\n",
    "        return Line(self.m, self.b, self.x_offset)"
   ]
  },
  {
   "cell_type": "code",
   "execution_count": 12,
   "metadata": {},
   "outputs": [],
   "source": [
    "class MicroROI:\n",
    "    def __init__(self, microimg, x_left, y_top):\n",
    "        xc_sum, yc_sum, _sum = 0, 0, 0\n",
    "        xc, yc = int(microimg.shape[1] / 2), int(microimg.shape[0] / 2)\n",
    "        for x in range(0, microimg.shape[1]):\n",
    "            for y in range(0, microimg.shape[0]):\n",
    "                if (microimg[y, x] > 0):  # Cambiar a binario\n",
    "                    xc_sum, yc_sum, _sum = xc_sum + x, yc_sum + y, _sum + 1\n",
    "        if (_sum != 0):\n",
    "            xc, yc = int(xc_sum / _sum), int(yc_sum / _sum)\n",
    "        self.xc, self.yc = xc + x_left, yc + y_top\n",
    "        \n",
    "    def get_centroid(self):\n",
    "        return self.xc, self.yc"
   ]
  },
  {
   "cell_type": "markdown",
   "metadata": {},
   "source": [
    "#### Segmentación con diferentes índices\n",
    "* Cloudy day: CIVE, COM1\n",
    "* Overcast day: CIVE, ExGR\n",
    "* Sunny day: COM2, ExG\n",
    "<br>Se asume que se utilizará en días soleados o nublados."
   ]
  },
  {
   "cell_type": "code",
   "execution_count": 13,
   "metadata": {},
   "outputs": [],
   "source": [
    "# Segmentación basado en color (los rangos se calculan manualmente)\n",
    "# def segment_by_color(img_hsv_in, binary=False):\n",
    "#     lower_green = np.array([35, 20, 40])  # Calculado a ojimetro\n",
    "#     upper_green = np.array([85, 255, 255])\n",
    "#     mask = cv2.inRange(img_hsv_in, lower_green, upper_green)\n",
    "#     only_plants = cv2.bitwise_and(img_hsv_in, img_hsv_in, mask=mask)\n",
    "#     gray = cv2.cvtColor(only_plants, cv2.COLOR_RGB2GRAY)\n",
    "#     max_value = 255\n",
    "#     if (binary):\n",
    "#         max_value = 1\n",
    "#     ret, segmented = cv2.threshold(\n",
    "#         gray, 0, max_value, cv2.THRESH_BINARY+cv2.THRESH_OTSU)\n",
    "#     return segmented\n",
    "\n",
    "# def hsv_enhancement(img_hsv_in):\n",
    "#     h, s, v = cv2.split(img_hsv_in)\n",
    "#   Esta equialización se puede hacer mejor, leer paper \"Color Image Enhancement in HSV Space Using Nonlinear Transfer Function\n",
    "#   and Neighborhood Dependent Approach with Preserving Details\"\n",
    "#     v = cv2.equalizeHist(v)\n",
    "#     return cv2.merge((h, s, v))\n",
    "\n",
    "# Devuelve la imágen con el índice seleccionado aplicado\n",
    "def img_to_color_index(img, index):\n",
    "    if (index == 'cive'):\n",
    "        return get_CIVE(img)\n",
    "#     elif (index == 'exr'):\n",
    "#         return get_ExR(img)\n",
    "#     elif (index == 'veg'):\n",
    "#         return get_VEG(img)\n",
    "    elif (index == 'exg'):\n",
    "        return get_ExG(img)\n",
    "#     elif (index == 'exgr'):\n",
    "#         return get_ExGR(img)\n",
    "#     elif (index == 'com1'):\n",
    "#         return get_COM1(img)\n",
    "#     elif (index == 'com2'):\n",
    "#         return get_COM2(img)\n",
    "    else:\n",
    "        return img\n",
    "\n",
    "# r'=r/(r+g+b) g'=g/(r+g+b) b'=b/(r+g+b)\n",
    "\n",
    "\n",
    "def get_normalized(img):\n",
    "    img = img.astype(np.uint16)\n",
    "    denominator = img[:, :, 0] + img[:, :, 1] + img[:, :, 2]\n",
    "    # Max 255+255+255, Min 1\n",
    "    denominator = np.where(denominator == 0, 1, denominator)\n",
    "    return cv2.merge((img[:, :, 0]/denominator, img[:, :, 1]/denominator, img[:, :, 2]/denominator))\n",
    "\n",
    "\n",
    "def get_CIVE(img):\n",
    "    img_norm = get_normalized(img)\n",
    "    return 0.441*img_norm[:, :, 0]-0.811*img_norm[:, :, 1]+0.385*img_norm[:, :, 2]+18.78745\n",
    "\n",
    "\n",
    "# def get_ExR(img):\n",
    "#     img_norm = get_normalized(img)\n",
    "#     return 1.3*img_norm[:, :, 0]-img_norm[:, :, 1]\n",
    "\n",
    "\n",
    "# def get_VEG(img):\n",
    "#     img_norm = get_normalized(img)\n",
    "#     r, g, b = cv2.split(img_norm)\n",
    "#     r = np.where(r == 0, 1, r)\n",
    "#     b = np.where(b == 0, 1, b)\n",
    "#     img_norm = cv2.merge((r, g, b))\n",
    "#     alpha = 0.667\n",
    "#     return img_norm[:, :, 1]/((img_norm[:, :, 0]**(alpha))*(img_norm[:, :, 2]**(1-alpha)))\n",
    "\n",
    "\n",
    "def get_ExG(img):\n",
    "    r, g, b = cv2.split(img)\n",
    "    r_mx = np.amax(r)\n",
    "    g_mx = np.amax(g)\n",
    "    b_mx = np.amax(b)\n",
    "    if (r_mx == 0):\n",
    "        r_mx = 1\n",
    "    if (g_mx == 0):\n",
    "        g_mx = 1\n",
    "    if (b_mx == 0):\n",
    "        b_mx = 1\n",
    "    r = r / r_mx\n",
    "    g = g / g_mx\n",
    "    b = b / b_mx\n",
    "    denominator = r + g + b\n",
    "    denominator = np.where(denominator == 0, 1, denominator)\n",
    "    r = r / denominator\n",
    "    g = g / denominator\n",
    "    b = b / denominator\n",
    "    return 2*g-r-b\n",
    "\n",
    "\n",
    "# def get_ExGR(img):\n",
    "#     exg = get_ExG(img)\n",
    "#     exr = get_ExR(img)\n",
    "#     return exg - exr\n",
    "\n",
    "\n",
    "# def get_COM1(img):\n",
    "#     exg = get_ExG(img)\n",
    "#     exgr = get_ExGR(img)\n",
    "#     cive = get_CIVE(img)\n",
    "#     veg = get_VEG(img)\n",
    "#     return 0.25*exg + 0.30*exgr + 0.33*cive + 0.12*veg\n",
    "\n",
    "\n",
    "# def get_COM2(img):\n",
    "#     exg = get_ExG(img)\n",
    "#     cive = get_CIVE(img)\n",
    "#     veg = get_VEG(img)\n",
    "#     return 0.36*exg + 0.47*cive + 0.17*veg"
   ]
  },
  {
   "cell_type": "markdown",
   "metadata": {},
   "source": [
    "#### Funciones sobre franjas"
   ]
  },
  {
   "cell_type": "code",
   "execution_count": 14,
   "metadata": {},
   "outputs": [],
   "source": [
    "# h: img_in.shape[0] w:img_in.shape[1]\n",
    "#Devuelve un vector booleano con las columnas de la imagen que tengan una mayor cantidad de vegetación que el th\n",
    "# def row_plant(img_in, threshold_porcentage):\n",
    "#     if (threshold_limit > 0 and threshold_limit <= 1):\n",
    "#         threshold_value = (int)(img_in.shape[0]*threshold_porcentage)\n",
    "#         vector = np.zeros(img_in.shape[1], np.uint8)\n",
    "#         for col in range(0, img_in.shape[1]-1):\n",
    "#             for row in range(0, img_in.shape[0]-1):\n",
    "#                 if img_in[row, col]:\n",
    "#                     vector[col] = vector[col] + 1\n",
    "#         vector_th = vector >= threshold_value\n",
    "#         return vector_th\n",
    "#     else:\n",
    "#         return None\n",
    "\n",
    "# Devuelve el histograma de columnas (para imágenes de 8 bits de profundidad, 255 = blanco)\n",
    "def column_histogram(img_in):\n",
    "    vector = np.zeros(img_in.shape[1], np.uint16)\n",
    "    for col in range(0, img_in.shape[1]-1):\n",
    "        vector[col] = np.sum(img_in[:, col] == 255)\n",
    "    return vector"
   ]
  },
  {
   "cell_type": "markdown",
   "metadata": {},
   "source": [
    "#### Recorte"
   ]
  },
  {
   "cell_type": "code",
   "execution_count": 15,
   "metadata": {},
   "outputs": [],
   "source": [
    "# Para realizar un corte en los margenes horizontales\n",
    "# def h_crop(img, crop_ratio):\n",
    "#     if (crop_ratio >= 0.5):\n",
    "#         crop_ratio = 0\n",
    "#     h = img.shape[0]\n",
    "#     w1 = (int)(img.shape[1]*crop_ratio)\n",
    "#     w2 = (int)(img.shape[1] - w1)\n",
    "#     return img[0:h, w1:w2]\n",
    "\n",
    "#Para realizar un corte en el margen superior de la imagen\n",
    "def v_crop_top(img, crop_ratio):\n",
    "    if (crop_ratio < 0 or crop_ratio > 1):\n",
    "        crop_ratio = 0\n",
    "    h2 = img.shape[0]\n",
    "    h1 = (int)(h2*crop_ratio)\n",
    "    w = img.shape[1]\n",
    "    return img[h1:h2, 0:w]"
   ]
  },
  {
   "cell_type": "markdown",
   "metadata": {},
   "source": [
    "#### Varios más generales (propios de la plataforma y no del algoritmo utilizado)"
   ]
  },
  {
   "cell_type": "code",
   "execution_count": 16,
   "metadata": {},
   "outputs": [],
   "source": [
    "# Selecciona una imagen aleatoria\n",
    "# def take_random_picture(img_path, file_name, ext):\n",
    "#     random_im = random.randrange(5)+1\n",
    "#     original_td = cv2.imread(img_path + file_name +\n",
    "#                              str(random_im) + '.' + ext, cv2.IMREAD_COLOR)\n",
    "#     return original_td, (file_name + str(random_im))"
   ]
  }
 ],
 "metadata": {
  "kernelspec": {
   "display_name": "Python 3",
   "language": "python",
   "name": "python3"
  },
  "language_info": {
   "codemirror_mode": {
    "name": "ipython",
    "version": 3
   },
   "file_extension": ".py",
   "mimetype": "text/x-python",
   "name": "python",
   "nbconvert_exporter": "python",
   "pygments_lexer": "ipython3",
   "version": "3.7.5"
  },
  "toc": {
   "base_numbering": 1,
   "nav_menu": {},
   "number_sections": true,
   "sideBar": true,
   "skip_h1_title": false,
   "title_cell": "Table of Contents",
   "title_sidebar": "Contents",
   "toc_cell": false,
   "toc_position": {},
   "toc_section_display": true,
   "toc_window_display": false
  },
  "varInspector": {
   "cols": {
    "lenName": 16,
    "lenType": 16,
    "lenVar": 40
   },
   "kernels_config": {
    "python": {
     "delete_cmd_postfix": "",
     "delete_cmd_prefix": "del ",
     "library": "var_list.py",
     "varRefreshCmd": "print(var_dic_list())"
    },
    "r": {
     "delete_cmd_postfix": ") ",
     "delete_cmd_prefix": "rm(",
     "library": "var_list.r",
     "varRefreshCmd": "cat(var_dic_list()) "
    }
   },
   "types_to_exclude": [
    "module",
    "function",
    "builtin_function_or_method",
    "instance",
    "_Feature"
   ],
   "window_display": false
  }
 },
 "nbformat": 4,
 "nbformat_minor": 2
}
