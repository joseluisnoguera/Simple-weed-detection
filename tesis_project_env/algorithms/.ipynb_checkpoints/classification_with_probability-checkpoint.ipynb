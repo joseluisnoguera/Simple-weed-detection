{
 "cells": [
  {
   "cell_type": "markdown",
   "metadata": {},
   "source": [
    "* Se puden mejorar las mascaras haciendolas de un bit"
   ]
  },
  {
   "cell_type": "code",
   "execution_count": 7,
   "metadata": {},
   "outputs": [],
   "source": [
    "# Image processing\n",
    "import cv2\n",
    "import numpy as np\n",
    "import os\n",
    "import glob\n",
    "from ipynb.fs.full.Utils import *"
   ]
  },
  {
   "cell_type": "markdown",
   "metadata": {},
   "source": [
    "# Variables de configuración"
   ]
  },
  {
   "cell_type": "code",
   "execution_count": 8,
   "metadata": {},
   "outputs": [],
   "source": [
    "segments_amount = 20 #Cantidad de segmentos\n",
    "window_ratio = 0.05 # 5% con 1024 son ventanas de 51 píxeles (ojo porque quedan pixeles a la derecha si procesar)\n",
    "top_crop_ratio = 0.1\n",
    "width_crop_ratio = 0.1"
   ]
  },
  {
   "cell_type": "markdown",
   "metadata": {},
   "source": [
    "### Cargado de imágenes de prueba para detección de lineas de cultivo"
   ]
  },
  {
   "cell_type": "code",
   "execution_count": 9,
   "metadata": {},
   "outputs": [
    {
     "name": "stdout",
     "output_type": "stream",
     "text": [
      "img/row_test_pcam/batch_1\\IMG431.png\n",
      "img/row_test_pcam/batch_1\\IMG432.png\n",
      "img/row_test_pcam/batch_1\\IMG433.png\n",
      "img/row_test_pcam/batch_1\\IMG434.png\n",
      "img/row_test_pcam/batch_1\\IMG435.png\n",
      "img/row_test_pcam/batch_1\\IMG436.png\n",
      "img/row_test_pcam/batch_1\\IMG437.png\n",
      "img/row_test_pcam/batch_1\\IMG438.png\n"
     ]
    }
   ],
   "source": [
    "#Levantar imagenes test de row_test\n",
    "# img_path = \"img/row_test_artificial/\"\n",
    "img_path = \"img/row_test_pcam/batch_1/\"\n",
    "#img_path = \"img/enhancement_test/\"\n",
    "images_in = []\n",
    "labels = []\n",
    "\n",
    "for file in glob.glob(img_path + 'IMG*.png'):\n",
    "# for file in glob.glob(img_path + 'IMG_*.png'):\n",
    "    img = cv2.imread(file, cv2.IMREAD_COLOR)\n",
    "    hsv = cv2.cvtColor(img, cv2.COLOR_RGB2HSV)\n",
    "    images_in.append(hsv_enhancement(hsv))\n",
    "#     images_in.append(v_crop_top(hsv_enhancement(hsv), top_crop_ratio))\n",
    "    labels.append(os.path.splitext(os.path.basename(file))[0])\n",
    "    (os.path.basename(file))\n",
    "    print(file)"
   ]
  },
  {
   "cell_type": "code",
   "execution_count": 4,
   "metadata": {},
   "outputs": [],
   "source": [
    "mostrar_imgs_HSV(labels, images_in)"
   ]
  },
  {
   "cell_type": "markdown",
   "metadata": {},
   "source": [
    "### Segmentación por verde\n",
    "Se puede agregar otros indices para mejorar la segmentación\n",
    "\n",
    "Con índice de Pagola detecta, lo que a ojímetro parecen, sectores de planta con más vida\n",
    "\n",
    "* Si se utiliza en HSV usar *segment_by_color*"
   ]
  },
  {
   "cell_type": "code",
   "execution_count": 10,
   "metadata": {},
   "outputs": [],
   "source": [
    "#Segmentación por verde\n",
    "seg_imgs = []\n",
    "\n",
    "kernel_e = np.ones((3,3),np.uint8)\n",
    "kernel_d = np.array(([0,1,0],[1,1,1],[0,1,0]),np.uint8)\n",
    "kernel1 = np.array(([0,1,0],[1,1,1],[0,1,0]),np.uint8)\n",
    "kernel2 = np.array(([1,0,1],[0,1,0],[1,0,1]),np.uint8)\n",
    "\n",
    "for img in images_in:\n",
    "    gray_bin = segment_by_color(img, binary=True)\n",
    "    #Erase lo suficiente para borrar puntos, y dilatate para recuperar masa de lo mayor\n",
    "#     gray_bin = cv2.erode(gray_bin, kernel_e,iterations=1)\n",
    "#     gray_bin = cv2.dilate(gray_bin, kernel_d,iterations=2)\n",
    "#     gray_bin = cv2.erode(gray_bin, kernel_e,iterations=1)\n",
    "    seg_imgs.append(gray_bin)"
   ]
  },
  {
   "cell_type": "code",
   "execution_count": 11,
   "metadata": {},
   "outputs": [],
   "source": [
    "img_show_list = []\n",
    "for img in seg_imgs:\n",
    "        img_show_list.append(img.astype('uint8')*255)\n",
    "mostrar_imgs(labels, img_show_list)"
   ]
  },
  {
   "cell_type": "code",
   "execution_count": 12,
   "metadata": {},
   "outputs": [],
   "source": [
    "#Si se usa binario, usar el box de abajo\n",
    "mostrar_imgs(labels, seg_imgs)"
   ]
  },
  {
   "cell_type": "markdown",
   "metadata": {},
   "source": [
    "### Operatoria para consegir lineas de cultivo (RCRD)\n",
    "Hay dos posibilidades, la segunda funciona mejor cuando hay un conjunto \"grande\" de imágenes relacionadas\n",
    "* Si se usa la primera descomentar *gray_bin = segment_by_color(img)* y comentar la siguiente\n",
    "* Si se usa la segunda decomentar *gray_bin = segment_by_color_binary(img)* y comentar la anterior"
   ]
  },
  {
   "cell_type": "code",
   "execution_count": 35,
   "metadata": {},
   "outputs": [],
   "source": [
    "# Sería con probabilidad de 1\n",
    "seg_and = seg_imgs[0].copy()\n",
    "for seg in seg_imgs:\n",
    "    seg_and = cv2.bitwise_and(seg_and, seg_and, mask = seg)\n",
    "#Los bordes van  a clasificarse mal si no los recorto (problema de tener fotos no consecutivas)\n",
    "# cropped = h_crop(seg_and,0.1)"
   ]
  },
  {
   "cell_type": "code",
   "execution_count": 13,
   "metadata": {},
   "outputs": [],
   "source": [
    "# Mediante probabilidades, aumenta el número de imágenes y aumenta la probabilidad de la fila\n",
    "green_amount = 0.4\n",
    "seg_and = np.zeros(seg_imgs[0].shape, np.uint8)\n",
    "for seg in seg_imgs:\n",
    "    seg_and = seg_and + seg\n",
    "_max = (int)(np.amax(seg_and)*green_amount)\n",
    "seg_and = cv2.GaussianBlur(seg_and,(7,7),cv2.BORDER_DEFAULT)\n",
    "ret,seg_and = cv2.threshold(seg_and, _max,255,cv2.THRESH_BINARY)\n",
    "# cropped = h_crop(seg_and,0.1)\n",
    "mostrar_img('seg', seg_and)"
   ]
  },
  {
   "cell_type": "code",
   "execution_count": 48,
   "metadata": {},
   "outputs": [],
   "source": [
    "#No aplicar\n",
    "# kernel_d1 = np.ones((3,3), np.uint8)\n",
    "# kernel_e1 = np.ones((2,2), np.uint8) \n",
    "# kernel_e2 = np.ones((5,5), np.uint8) \n",
    "# # seg_hough = cv2.dilate(seg_and, kernel, iterations=1)\n",
    "# seg_hough = cv2.erode(seg_and, kernel_e1, iterations=1)\n",
    "# seg_hough = cv2.dilate(seg_hough, kernel_d1, iterations=2)\n",
    "# seg_hough = cv2.erode(seg_hough, kernel_e2, iterations=1)\n",
    "# mostrar_img('seg', seg_hough)"
   ]
  },
  {
   "cell_type": "markdown",
   "metadata": {},
   "source": [
    "### Imagen de prueba para clasificación\n",
    "Se segmenta y se calculan bordes para tener referencia visual (No lo requiere el algoritmo final)"
   ]
  },
  {
   "cell_type": "code",
   "execution_count": 59,
   "metadata": {},
   "outputs": [],
   "source": [
    "file_name = 'artificial_1'\n",
    "original_td = cv2.imread(img_path + file_name + '.png', cv2.IMREAD_COLOR)\n",
    "# original_td = h_crop(original_td, 0.1) #Para que queden de igual ancho\n",
    "to_detect = cv2.cvtColor(original_td, cv2.COLOR_RGB2HSV)\n",
    "to_detect = v_crop_top(segment_by_color(to_detect), top_crop_ratio)"
   ]
  },
  {
   "cell_type": "code",
   "execution_count": 60,
   "metadata": {},
   "outputs": [],
   "source": [
    "kernel = np.ones((3,3), np.uint8) \n",
    "to_detect = cv2.erode(to_detect, kernel, iterations=1)"
   ]
  },
  {
   "cell_type": "code",
   "execution_count": 61,
   "metadata": {},
   "outputs": [],
   "source": [
    "# mostrar_img('to_detect', to_detect)"
   ]
  },
  {
   "cell_type": "code",
   "execution_count": 63,
   "metadata": {},
   "outputs": [],
   "source": [
    "to_detect_edge = cv2.Canny(to_detect,50,150)\n",
    "zeros = np.zeros(to_detect.shape, np.uint8)\n",
    "three_channel_edge = cv2.merge((to_detect, zeros, zeros))\n",
    "mostrar_img('edges canny', three_channel_edge)"
   ]
  },
  {
   "cell_type": "markdown",
   "metadata": {},
   "source": [
    "### Clasificación (FIP + RCRD)\n",
    "Trabajo en segmentos, divide la imagen en 20 segmentos (se puede optar por análizar solo la parte inferior, los primeros 15 segmentos)"
   ]
  },
  {
   "cell_type": "code",
   "execution_count": 64,
   "metadata": {},
   "outputs": [],
   "source": [
    "td_h, td_w = to_detect.shape\n",
    "seg_height = (int)(td_h/segments_amount)\n",
    "steps = (int)(td_h/seg_height) #Si td_h no es múltiplo de la cantidad de seg => steps != segments_amount\n",
    "window_width = (int)(td_w*window_ratio)\n",
    "\n",
    "#RCRD descripto como vectores para que sea más rápido verificar\n",
    "offset_seg_height = 0\n",
    "rcrd_vectors = np.zeros((steps, td_w), np.bool)\n",
    "for i in range(0,steps):\n",
    "    segment = seg_and[offset_seg_height:offset_seg_height + seg_height, 0:td_w]\n",
    "    rcrd_vectors[i,:] = calculate_row(segment, seg_height, td_w)\n",
    "    offset_seg_height = offset_seg_height + seg_height"
   ]
  },
  {
   "cell_type": "code",
   "execution_count": 71,
   "metadata": {},
   "outputs": [],
   "source": [
    "def is_crop(window):\n",
    "    return True\n",
    "    sum = 0\n",
    "    for elem in window:\n",
    "        if elem:\n",
    "            sum = sum + 1\n",
    "    sz = np.size(window)\n",
    "    return ((sum/sz) > 0.80)\n",
    "        \n",
    "def verificate_with_rcrd(seg_index, window_pos, window_width):\n",
    "#     return True\n",
    "    return np.any(rcrd_vectors[seg_index, window_pos:window_pos + window_width])"
   ]
  },
  {
   "cell_type": "markdown",
   "metadata": {},
   "source": [
    "#### Probar con bandas de verde"
   ]
  },
  {
   "cell_type": "code",
   "execution_count": null,
   "metadata": {},
   "outputs": [],
   "source": [
    "\n",
    "for seg_index in range(0,steps):\n",
    "    segment = to_detect[offset_seg_height:offset_seg_height + seg_height,0:td_w]\n",
    "    vector = calculate_row(segment, seg_height, td_w)\n",
    "    "
   ]
  },
  {
   "cell_type": "code",
   "execution_count": 72,
   "metadata": {},
   "outputs": [],
   "source": [
    "#FIP\n",
    "offset_seg_height = 0\n",
    "\n",
    "# from matplotlib import pyplot as plt\n",
    "# x = np.arange(0,td_w) \n",
    "three_ch_copy = three_channel_edge.copy()\n",
    "\n",
    "#La imagen la voy recorriendo de abajo hacia arriba\n",
    "for seg_index in range(0, steps):\n",
    "    #Calculo los vectores de cada segmento\n",
    "    segment = to_detect[offset_seg_height:offset_seg_height + seg_height,0:td_w]\n",
    "    vector = calculate_row(segment, seg_height, td_w)\n",
    "    \n",
    "    #Todo lo que no sea crop, es weed\n",
    "    window_pos = 0;\n",
    "    while (window_pos < td_w - window_width ):\n",
    "        #Hay algo mal en el algoritmo\n",
    "        if (is_crop(vector[window_pos:window_pos + window_width])):\n",
    "            if (verificate_with_rcrd(seg_index, window_pos, window_width)):\n",
    "            #Luego de verificar que sea crop, pinto ese sector\n",
    "                sector = three_ch_copy[offset_seg_height:offset_seg_height + seg_height, window_pos: window_pos + window_width]\n",
    "                sec_b, sec_g, sec_r = cv2.split(sector)\n",
    "                sector = cv2.merge((sec_r, sec_g, sec_b)) #Lo pinto dando vuelta los canales\n",
    "                three_ch_copy[offset_seg_height:offset_seg_height + seg_height, window_pos: window_pos + window_width] = sector\n",
    "                window_pos = window_pos + window_width\n",
    "            else:\n",
    "                window_pos = window_pos + 1\n",
    "        else:\n",
    "            window_pos = window_pos + 1\n",
    "    offset_seg_height = offset_seg_height + seg_height"
   ]
  },
  {
   "cell_type": "code",
   "execution_count": 73,
   "metadata": {},
   "outputs": [],
   "source": [
    "mostrar_img('th', three_ch_copy)"
   ]
  },
  {
   "cell_type": "markdown",
   "metadata": {},
   "source": [
    "### Region growing"
   ]
  },
  {
   "cell_type": "code",
   "execution_count": 68,
   "metadata": {},
   "outputs": [],
   "source": [
    "#De manera recursiva repinta lo que encuentre a su alrededor\n",
    "def paint(pixel):\n",
    "    if (pixel[0]):\n",
    "        aux = pixel[0]\n",
    "        pixel [0] = pixel[2]\n",
    "        pixel[2] = aux\n",
    "\n",
    "def contagio(img, y_init, x_init):\n",
    "    img_h, img_w, ch = img.shape\n",
    "    x1= x_init-1\n",
    "    x2= x_init+1\n",
    "    y1= y_init-1\n",
    "    y2= y_init+1\n",
    "    if (x1 >= 0):\n",
    "        paint(img[y_init,x1])\n",
    "    if (x2 < img_w):\n",
    "        paint(img[y_init,x2])\n",
    "    if (y1 >= 0):\n",
    "        paint(img[y1,x_init])\n",
    "    if (y2 < img_h):\n",
    "        paint(img[y2,x_init])"
   ]
  },
  {
   "cell_type": "code",
   "execution_count": 69,
   "metadata": {},
   "outputs": [],
   "source": [
    "three_ch_copy2 = three_ch_copy.copy()\n",
    "for y in range(0,td_h-1):\n",
    "    for x in range(0,td_w-1):\n",
    "        if (three_ch_copy2[y,x,2]): #BGR, el contagio es con R\n",
    "            contagio(three_ch_copy2, y, x)\n",
    "mostrar_imgs(['th contagio','th'], [three_ch_copy2, three_ch_copy])"
   ]
  },
  {
   "cell_type": "code",
   "execution_count": null,
   "metadata": {},
   "outputs": [],
   "source": [
    "#Colorearlo en imagen de bordes (Poner valor 255 en segundo (crop) o tercer canal (weed)) \n",
    "#Sumar bordes clasificados con imagen \n",
    "result = cv2.add(original_td, three_ch_copy2)"
   ]
  },
  {
   "cell_type": "code",
   "execution_count": null,
   "metadata": {},
   "outputs": [],
   "source": [
    "mostrar_img('resultado', result)"
   ]
  },
  {
   "cell_type": "markdown",
   "metadata": {},
   "source": [
    "### Guardado de imágenes"
   ]
  },
  {
   "cell_type": "code",
   "execution_count": null,
   "metadata": {},
   "outputs": [],
   "source": [
    "#Guardar resultado\n",
    "file_name='total'\n",
    "cv2.imwrite('img/row_test/' + file_name + '_resultado2.png', result)\n",
    "# cv2.imwrite('img/row_test/' + file_name + '_with_lines.png', with_lines)"
   ]
  },
  {
   "cell_type": "code",
   "execution_count": null,
   "metadata": {},
   "outputs": [],
   "source": []
  }
 ],
 "metadata": {
  "kernelspec": {
   "display_name": "Python 3",
   "language": "python",
   "name": "python3"
  },
  "language_info": {
   "codemirror_mode": {
    "name": "ipython",
    "version": 3
   },
   "file_extension": ".py",
   "mimetype": "text/x-python",
   "name": "python",
   "nbconvert_exporter": "python",
   "pygments_lexer": "ipython3",
   "version": "3.7.4"
  }
 },
 "nbformat": 4,
 "nbformat_minor": 2
}
