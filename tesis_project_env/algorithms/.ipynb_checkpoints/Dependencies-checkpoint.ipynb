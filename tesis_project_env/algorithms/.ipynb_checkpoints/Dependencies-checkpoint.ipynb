{
 "cells": [
  {
   "cell_type": "code",
   "execution_count": 1,
   "metadata": {},
   "outputs": [
    {
     "name": "stdout",
     "output_type": "stream",
     "text": [
      "Requirement already satisfied: opencv-python in c:\\users\\josen\\appdata\\local\\programs\\python\\python37\\lib\\site-packages (4.1.1.26)\n",
      "Requirement already satisfied: numpy>=1.14.5 in c:\\users\\josen\\appdata\\local\\programs\\python\\python37\\lib\\site-packages (from opencv-python) (1.17.3)\n",
      "Note: you may need to restart the kernel to use updated packages.\n",
      "Requirement already satisfied: matplotlib in c:\\users\\josen\\appdata\\local\\programs\\python\\python37\\lib\\site-packages (3.1.1)\n",
      "Requirement already satisfied: pyparsing!=2.0.4,!=2.1.2,!=2.1.6,>=2.0.1 in c:\\users\\josen\\appdata\\local\\programs\\python\\python37\\lib\\site-packages (from matplotlib) (2.4.2)\n",
      "Requirement already satisfied: kiwisolver>=1.0.1 in c:\\users\\josen\\appdata\\local\\programs\\python\\python37\\lib\\site-packages (from matplotlib) (1.1.0)\n",
      "Requirement already satisfied: numpy>=1.11 in c:\\users\\josen\\appdata\\local\\programs\\python\\python37\\lib\\site-packages (from matplotlib) (1.17.3)\n",
      "Requirement already satisfied: python-dateutil>=2.1 in c:\\users\\josen\\appdata\\local\\programs\\python\\python37\\lib\\site-packages (from matplotlib) (2.8.0)\n",
      "Requirement already satisfied: cycler>=0.10 in c:\\users\\josen\\appdata\\local\\programs\\python\\python37\\lib\\site-packages (from matplotlib) (0.10.0)\n",
      "Requirement already satisfied: setuptools in c:\\users\\josen\\appdata\\local\\programs\\python\\python37\\lib\\site-packages (from kiwisolver>=1.0.1->matplotlib) (41.2.0)\n",
      "Requirement already satisfied: six>=1.5 in c:\\users\\josen\\appdata\\local\\programs\\python\\python37\\lib\\site-packages (from python-dateutil>=2.1->matplotlib) (1.12.0)\n",
      "Note: you may need to restart the kernel to use updated packages.\n",
      "Requirement already satisfied: numpy in c:\\users\\josen\\appdata\\local\\programs\\python\\python37\\lib\\site-packages (1.17.3)\n",
      "Note: you may need to restart the kernel to use updated packages.\n",
      "Requirement already satisfied: ipynb in c:\\users\\josen\\appdata\\local\\programs\\python\\python37\\lib\\site-packages (0.5.1)\n",
      "Note: you may need to restart the kernel to use updated packages.\n",
      "Requirement already satisfied: scipy in c:\\users\\josen\\appdata\\local\\programs\\python\\python37\\lib\\site-packages (1.3.1)\n",
      "Requirement already satisfied: numpy>=1.13.3 in c:\\users\\josen\\appdata\\local\\programs\\python\\python37\\lib\\site-packages (from scipy) (1.17.3)\n",
      "Note: you may need to restart the kernel to use updated packages.\n",
      "Collecting peakutils\n",
      "  Downloading https://files.pythonhosted.org/packages/2a/e0/a45948450946a87dae44d936ea7646d862e1014753c496468a05f20e95c5/PeakUtils-1.3.2.tar.gz\n",
      "Requirement already satisfied: numpy in c:\\users\\josen\\appdata\\local\\programs\\python\\python37\\lib\\site-packages (from peakutils) (1.17.3)\n",
      "Requirement already satisfied: scipy in c:\\users\\josen\\appdata\\local\\programs\\python\\python37\\lib\\site-packages (from peakutils) (1.3.1)\n",
      "Installing collected packages: peakutils\n",
      "    Running setup.py install for peakutils: started\n",
      "    Running setup.py install for peakutils: finished with status 'done'\n",
      "Successfully installed peakutils-1.3.2\n",
      "Note: you may need to restart the kernel to use updated packages.\n"
     ]
    }
   ],
   "source": [
    "#Ejecutar si falla algún import en otro notebook\n",
    "%pip install opencv-python\n",
    "%pip install matplotlib\n",
    "%pip install numpy\n",
    "%pip install ipynb\n",
    "%pip install scipy\n",
    "%pip install peakutils\n",
    "%pip install seaborn"
   ]
  },
  {
   "cell_type": "code",
   "execution_count": null,
   "metadata": {},
   "outputs": [],
   "source": []
  }
 ],
 "metadata": {
  "kernelspec": {
   "display_name": "Python 3",
   "language": "python",
   "name": "python3"
  },
  "language_info": {
   "codemirror_mode": {
    "name": "ipython",
    "version": 3
   },
   "file_extension": ".py",
   "mimetype": "text/x-python",
   "name": "python",
   "nbconvert_exporter": "python",
   "pygments_lexer": "ipython3",
   "version": "3.7.5"
  },
  "toc": {
   "base_numbering": 1,
   "nav_menu": {},
   "number_sections": true,
   "sideBar": true,
   "skip_h1_title": false,
   "title_cell": "Table of Contents",
   "title_sidebar": "Contents",
   "toc_cell": false,
   "toc_position": {},
   "toc_section_display": true,
   "toc_window_display": false
  }
 },
 "nbformat": 4,
 "nbformat_minor": 2
}
