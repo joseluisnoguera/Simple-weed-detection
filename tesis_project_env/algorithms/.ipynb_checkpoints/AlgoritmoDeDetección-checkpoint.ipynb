{
 "cells": [
  {
   "cell_type": "markdown",
   "metadata": {},
   "source": [
    "Cosas para procesamiento de imágenes:\n",
    "* Evaluar características de la cámara\n",
    "* Normalización (ver si los índices normalizan o estudiar si la normalización rompe el índice)\n",
    "* Medir más características en el final, para discriminar de otra manera, ej: índice de textura\n",
    "\n",
    "Informe breve que describa las acciones realizadas para todas las etapas, decisiones en cada una, resultados"
   ]
  },
  {
   "cell_type": "markdown",
   "metadata": {},
   "source": [
    "## Preprocesamiento\n",
    "Indices seleccionados:\n",
    "* Cloudy days: CIVE\n",
    "* Sunny days: ExG\n",
    "\n",
    "Las partes quemadas de la imagen afectan en los índices (es algo esperado).<br>\n",
    "Hay que probar las otras configuraciones de la cámara para detectar si las imágenes se queman.<br><br>\n",
    "Conocimiento previo para el algoritmo:\n",
    "* Cantidad de lineas en la imagen\n",
    "* Estadio del cultivo para estimar ancho de cada linea\n",
    "<br>\n",
    "\n",
    "#### Aprendido\n",
    "* Equalización de V en HSV rompe índices de vegetación (al menos los que trabajan con RGB)\n",
    "\n",
    "#### Notas\n",
    "* Cuando se haga el port, las imágenes binarizadas (uint8) cambiarlas a estructuras de Boolean\n",
    "* Para la detección de las rectas es bueno tener un microROI angosto (respecto al ancho del surco), para la máscara posterior es bueno agrandar su ancho real para solventar el problema de las hojas en el entre surco\n",
    "* MUY IMPORTANTE el ancho de surco (¿Para abajo o para arriba?)"
   ]
  },
  {
   "cell_type": "code",
   "execution_count": 28,
   "metadata": {
    "ExecuteTime": {
     "end_time": "2020-02-10T21:21:54.799704Z",
     "start_time": "2020-02-10T21:21:54.794682Z"
    }
   },
   "outputs": [],
   "source": [
    "import cv2\n",
    "import numpy as np\n",
    "import os\n",
    "import glob\n",
    "import matplotlib\n",
    "import matplotlib.pyplot as plt\n",
    "import scipy\n",
    "import seaborn as sns # Para graficar boxplots\n",
    "from ipynb.fs.full.Utils import *\n",
    "from mpl_toolkits.mplot3d import axes3d # Para realizar gráficas 3D"
   ]
  },
  {
   "cell_type": "code",
   "execution_count": 29,
   "metadata": {
    "ExecuteTime": {
     "end_time": "2020-02-10T21:21:54.883984Z",
     "start_time": "2020-02-10T21:21:54.801662Z"
    }
   },
   "outputs": [],
   "source": [
    "reduction_to_see = 0.6 # Reducción del tamaño original para poder ver las imágenes en tamañas chicas\n",
    "crop_width_bottom = 75 # Ancho de línea de cultivo en píxeles\n",
    "rs_ratio = 0.25  # un cuarto de la imagen original\n",
    "\n",
    "list_to_invert = {'exg', 'exgr', 'veg', 'com1', 'com2'}\n",
    "\n",
    "kernel_edge = np.array([[-2, 4, -2],  # Segmentos verticales\n",
    "                        [-2, 4, -2],\n",
    "                        [-2, 4, -2]])\n",
    "kernel_vertical = np.array([\n",
    "    [0, 1, 0],\n",
    "    [0, 1, 0],\n",
    "    [0, 1, 0]\n",
    "], np.uint8)\n",
    "kernel_horizontal = np.array([\n",
    "    [0, 0, 0],\n",
    "    [1, 1, 1],\n",
    "    [0, 0, 0]\n",
    "], np.uint8)\n",
    "kernel_diagonal_1 = np.array([\n",
    "    [0, 0, 1],\n",
    "    [0, 1, 0],\n",
    "    [1, 0, 0]\n",
    "], np.uint8)\n",
    "kernel_diagonal_2 = np.array([\n",
    "    [1, 0, 0],\n",
    "    [0, 1, 0],\n",
    "    [0, 0, 1]\n",
    "], np.uint8)\n",
    "kernel_cruz = np.array([\n",
    "    [0, 1, 0],\n",
    "    [1, 1, 1],\n",
    "    [0, 1, 0]\n",
    "], np.uint8)\n",
    "kernel_x = np.array([\n",
    "    [1, 0, 1],\n",
    "    [0, 1, 0],\n",
    "    [1, 0, 1]\n",
    "], np.uint8)"
   ]
  },
  {
   "cell_type": "markdown",
   "metadata": {},
   "source": [
    "* Recorte de ROI (80% inferior de la imagen para eliminar ruido generado en el punto de fuga)\n",
    "* Calculo con índice CIVE\n",
    "* Segmentación dinámica meidante el método de Otsu\n",
    "* Reducción a un cuarto del tamaño original\n",
    "* Obtención de porcentaje de vegetación en imágen\n",
    "* Eroción sí el porcentaje de vegetación es mayor a 12%"
   ]
  },
  {
   "cell_type": "code",
   "execution_count": 30,
   "metadata": {
    "ExecuteTime": {
     "end_time": "2020-02-10T21:21:55.033403Z",
     "start_time": "2020-02-10T21:21:54.884951Z"
    }
   },
   "outputs": [],
   "source": [
    "\n",
    "path_to_imgs = 'img/test/'\n",
    "file_name = 'test6'\n",
    "_original = cv2.imread(path_to_imgs + file_name + '.png', cv2.IMREAD_COLOR)\n",
    "if _original is None:\n",
    "    print('Warning: imagen no cargada')\n",
    "# else:\n",
    "# original, file_name = take_random_picture(path_to_imgs, 'test', 'jpg')\n",
    "#      mostrar_img(file_name,_original, reduction_to_see)\n",
    "# Se hicieron pruebas con test4 o test5"
   ]
  },
  {
   "cell_type": "code",
   "execution_count": 31,
   "metadata": {
    "ExecuteTime": {
     "end_time": "2020-02-10T21:21:55.037872Z",
     "start_time": "2020-02-10T21:21:55.034364Z"
    }
   },
   "outputs": [],
   "source": [
    "# Cortar la parte superior de la imagen (esto se calcula de manera manual, depende del ángulo de pitch que tenga la cámara)\n",
    "\n",
    "original = v_crop_top(_original, 0.25)\n",
    "# mostrar_img(file_name,original, reduction_to_see)"
   ]
  },
  {
   "cell_type": "code",
   "execution_count": 32,
   "metadata": {
    "ExecuteTime": {
     "end_time": "2020-02-10T21:21:55.292562Z",
     "start_time": "2020-02-10T21:21:55.038870Z"
    }
   },
   "outputs": [],
   "source": [
    "# Índices posibles: cive exr veg exg exgr com1 com2\n",
    "\n",
    "indice_seleccionado = 'exg'\n",
    "index_img = img_to_color_index(original, indice_seleccionado)\n",
    "# mostrar_img(file_name,index_img, reduction_to_see)"
   ]
  },
  {
   "cell_type": "code",
   "execution_count": 33,
   "metadata": {
    "ExecuteTime": {
     "end_time": "2020-02-10T21:21:55.353491Z",
     "start_time": "2020-02-10T21:21:55.293564Z"
    }
   },
   "outputs": [],
   "source": [
    "# La convierto en binario de 8 bits para aplicar Otsu\n",
    "gray_ind_img = scaling(index_img, 255)\n",
    "if (indice_seleccionado in list_to_invert):\n",
    "    gray_ind_img = cv2.bitwise_not(gray_ind_img)\n",
    "ret, segmented = cv2.threshold(\n",
    "    gray_ind_img, 0, 255, cv2.THRESH_BINARY_INV+cv2.THRESH_OTSU)\n",
    "# mostrar_imgs([file_name, indice_seleccionado + 'with otsu'],[original, segmented], reduction_to_see)\n",
    "# cv2.imwrite(path_to_imgs + file_name + '_'+ indice_seleccionado +'.png', segmented)"
   ]
  },
  {
   "cell_type": "code",
   "execution_count": 34,
   "metadata": {
    "ExecuteTime": {
     "end_time": "2020-02-10T21:21:55.387476Z",
     "start_time": "2020-02-10T21:21:55.355390Z"
    }
   },
   "outputs": [],
   "source": [
    "# Apertura para eliminar ruido\n",
    "\n",
    "kernel = np.ones((3,3), np.uint8)\n",
    "segmented_1 = cv2.morphologyEx(segmented, cv2.MORPH_OPEN, kernel, iterations=1)\n",
    "segmented_2 = cv2.morphologyEx(segmented_1, cv2.MORPH_CLOSE, kernel, iterations=1)\n",
    "# diff = cv2.absdiff(segmented_1,segmented_2)\n",
    "# mostrar_imgs(['segmentada 1', 'segmentada 2', 'diferencia'], [segmented_1, segmented_2, diff], reduction_to_see)"
   ]
  },
  {
   "cell_type": "code",
   "execution_count": 35,
   "metadata": {
    "ExecuteTime": {
     "end_time": "2020-02-10T21:21:55.394414Z",
     "start_time": "2020-02-10T21:21:55.390435Z"
    }
   },
   "outputs": [],
   "source": [
    "# Utilizar el algoritmo con un reescalado de la imagen\n",
    "\n",
    "reducted = cv2.resize(segmented_2, None, fx=rs_ratio,\n",
    "                      fy=rs_ratio, interpolation=cv2.INTER_AREA)\n",
    "# mostrar_img('red', reducted)"
   ]
  },
  {
   "cell_type": "code",
   "execution_count": 36,
   "metadata": {
    "ExecuteTime": {
     "end_time": "2020-02-10T21:21:55.400423Z",
     "start_time": "2020-02-10T21:21:55.396409Z"
    }
   },
   "outputs": [
    {
     "name": "stdout",
     "output_type": "stream",
     "text": [
      "(1920, 2560, 3)\n",
      "(1440, 2560, 3)\n",
      "(360, 640)\n",
      "75.0\n"
     ]
    }
   ],
   "source": [
    "print(_original.shape)\n",
    "print(original.shape)\n",
    "print(reducted.shape)\n",
    "print((300*640)/2560)"
   ]
  },
  {
   "cell_type": "code",
   "execution_count": 37,
   "metadata": {
    "ExecuteTime": {
     "end_time": "2020-02-10T21:21:55.409416Z",
     "start_time": "2020-02-10T21:21:55.401396Z"
    },
    "scrolled": true
   },
   "outputs": [],
   "source": [
    "# Apertura/eroción para eliminación de píxeles espurios o exceso de vegetación, denotando más las lineas\n",
    "# Utilizo solo eroción para acentuar la diferencia entre líneas de cultivo\n",
    "kernel = np.array([[0,1,0],[1,1,1],[0,1,0]], np.uint8)\n",
    "v_a = get_total_vegetation(reducted)\n",
    "# print('Cantidad de vegetación original: ' + str(v_a))\n",
    "if (v_a > 0.15):\n",
    "    morph = (cv2.erode(reducted, kernel))\n",
    "    v_a = get_total_vegetation(morph)\n",
    "#     print('Cantidad de vegetación reducido: ' + str(v_a))\n",
    "#     mostrar_imgs([file_name,'op1'], [reducted, morph])\n",
    "else:\n",
    "    morph = reducted.copy()"
   ]
  },
  {
   "cell_type": "code",
   "execution_count": 38,
   "metadata": {
    "ExecuteTime": {
     "end_time": "2020-02-10T21:21:55.413388Z",
     "start_time": "2020-02-10T21:21:55.410371Z"
    },
    "cell_style": "split"
   },
   "outputs": [],
   "source": [
    "# ---------------------- Para implementar\n",
    "# Si se detectan lagunas de vegetación (tiene que ver con el ancho de los cultivos según la distancia en la imágen)\n",
    "# se debe marcar como zona con maleza, y el resto \"limpio\", ya que el algoritmo para detección de las rectas\n",
    "# no va a funcionar si siguieramos"
   ]
  },
  {
   "cell_type": "markdown",
   "metadata": {},
   "source": [
    "## Descriptores de línea de cultivo\n",
    "* Histograma de la primera 12va franja horizontal de la imagen\n",
    "* Suavizado con Savitzky-Golay, con ancho de ventana de 51 píxeles y polinomios orden 1\n",
    "* Busqueda de máximos con distancia mínima de 100 píxeles (puntos de inicio)\n",
    "* Calculo de líneas descriptoras mediante: <br>\n",
    "a) Transformada de Hough con restricciónes<br>\n",
    "b) (Consume demasiados recursos computacionales, hace falta comparar en recursos HW) Cruzamiento entre puntos de inicio con puntos de tope<br>\n",
    "* Se generan grupos según las rectas que pase por +- 25 píxeles de cada punto de inicio\n",
    "* Se selecciona una recta de cada grupo que sea la que mayor cantidad de vegación cruce"
   ]
  },
  {
   "cell_type": "code",
   "execution_count": 39,
   "metadata": {
    "ExecuteTime": {
     "end_time": "2020-02-10T21:21:55.419372Z",
     "start_time": "2020-02-10T21:21:55.414361Z"
    }
   },
   "outputs": [],
   "source": [
    "# Segmento que es analizado con los histogramas\n",
    "# img_temp = morph[morph.shape[0] - h_space:morph.shape[0], 0:morph.shape[1]]\n",
    "# mostrar_img('segmento bajo', img_temp)\n",
    "# cv2.imwrite(path_to_imgs + file_name + '_' + 'segmentos' +'.png', img_temp)"
   ]
  },
  {
   "cell_type": "code",
   "execution_count": 40,
   "metadata": {
    "ExecuteTime": {
     "end_time": "2020-02-10T21:21:55.564114Z",
     "start_time": "2020-02-10T21:21:55.420346Z"
    }
   },
   "outputs": [
    {
     "name": "stdout",
     "output_type": "stream",
     "text": [
      "(30, 640)\n"
     ]
    },
    {
     "data": {
      "image/png": "[encoded data removed]",
      "text/plain": [
       "<Figure size 432x288 with 1 Axes>"
      ]
     },
     "metadata": {
      "needs_background": "light"
     },
     "output_type": "display_data"
    }
   ],
   "source": [
    "# Calcular histograma de la franja inferior de la imágen, detectar la cantidad de picos según la cantidad\n",
    "# de lineas se busquen, si hay más o menos de lo buscado se descarta la imagen.\n",
    "# Luego de calculados los picos, calcular su centroide (la media de la distribución alrededor del pico)\n",
    "\n",
    "#segment = seg_and[offset_seg_height:offset_seg_height + seg_height, 0:td_w]\n",
    "h_space = int(morph.shape[0]/12)\n",
    "# indexes = get_maximum_points(reducted[morph.shape[0] - h_space:morph.shape[0], 0:morph.shape[1]], crop_width_bottom)\n",
    "# print(indexes)\n",
    "horizontal_segment = reducted[morph.shape[0] -\n",
    "                           h_space:morph.shape[0], 0:morph.shape[1]]\n",
    "print(horizontal_segment.shape)\n",
    "histogram = column_histogram(horizontal_segment)\n",
    "\n",
    "# Dibujar linea para mostrar sector analizado, y guarda\n",
    "# _morph_aux1 = cv2.merge((morph, morph, morph))\n",
    "# _morph_aux1 = cv2.line(_morph_aux1, (0, morph.shape[0]-h_space),\n",
    "#                   (morph.shape[1], morph.shape[0]-h_space), (0, 0, 255), 1)\n",
    "# mostrar_img('line', _morph_aux1)\n",
    "# cv2.imwrite(path_to_imgs + file_name + '_'+ 'segmentToInitialPoints' +'.png', _morph_aux1)\n",
    "\n",
    "x = np.arange(0, morph.shape[1], 1)\n",
    "fig, ax = plt.subplots()\n",
    "ax.plot(x, histogram)\n",
    "ax.set(xlabel='Columna', ylabel='Cantidad de vegetación', title='Histograma de vegetación')\n",
    "ax.grid()\n",
    "# fig.savefig('img/test/histogram_vegetation.png')\n",
    "# plt.show()"
   ]
  },
  {
   "cell_type": "code",
   "execution_count": 41,
   "metadata": {
    "ExecuteTime": {
     "end_time": "2020-02-10T21:21:55.710310Z",
     "start_time": "2020-02-10T21:21:55.565120Z"
    }
   },
   "outputs": [
    {
     "data": {
      "image/png": "[encoded data removed]",
      "text/plain": [
       "<Figure size 432x288 with 1 Axes>"
      ]
     },
     "metadata": {
      "needs_background": "light"
     },
     "output_type": "display_data"
    }
   ],
   "source": [
    "# El tamaño de ventana depende del ancho de las lineas, se busca un valor de manera que suavice y resalte los picos de cultivo\n",
    "# El grado del polinomio (por prueba) resulto ser mejor con grado 1, y eso puede ayudar en los calculos\n",
    "# Buscar como implementarlo en c++ (Savitzky Golay filter)\n",
    "\n",
    "# Sumo uno al ancho para que sea impar, resto 10 para mayor resolución\n",
    "\n",
    "window_length = (int)(crop_width_bottom-(0.1*crop_width_bottom))\n",
    "window_length = (window_length + 1) if (window_length % 2 == 0) else window_length\n",
    "smoothed_2dg = (savgol_filter(histogram, window_length=window_length,\n",
    "                              polyorder=1)).astype(np.int16)\n",
    "# print(smoothed_2dg)\n",
    "\n",
    "fig, ax = plt.subplots()\n",
    "ax.plot(x, smoothed_2dg)\n",
    "ax.set(xlabel='Columna', ylabel='Cantidad de vegetación',\n",
    "       title='Histograma de vegetación suavizado')\n",
    "ax.grid()\n",
    "# fig.savefig('img/test/histogram_vegetation_smoothed.png')\n",
    "# plt.show()"
   ]
  },
  {
   "cell_type": "code",
   "execution_count": 42,
   "metadata": {
    "ExecuteTime": {
     "end_time": "2020-02-10T21:21:55.847581Z",
     "start_time": "2020-02-10T21:21:55.711278Z"
    }
   },
   "outputs": [
    {
     "data": {
      "text/plain": [
       "[Text(0, 0.5, 'Cantidad de vegetación'),\n",
       " Text(0.5, 0, 'Columna'),\n",
       " Text(0.5, 1.0, 'Máximos locales')]"
      ]
     },
     "execution_count": 42,
     "metadata": {},
     "output_type": "execute_result"
    },
    {
     "data": {
      "image/png": "[encoded data removed]",
      "text/plain": [
       "<Figure size 432x288 with 1 Axes>"
      ]
     },
     "metadata": {
      "needs_background": "light"
     },
     "output_type": "display_data"
    }
   ],
   "source": [
    "# Detección de picos, basados en una ventana de desplazamiento y punto de inflexión\n",
    "# Los interpola\n",
    "\n",
    "indexes = peakutils.indexes(\n",
    "    smoothed_2dg, thres=0.05/max(smoothed_2dg), min_dist=100)\n",
    "\n",
    "fig, ax = plt.subplots()\n",
    "ax.plot(x, smoothed_2dg)\n",
    "ax.scatter(indexes, smoothed_2dg[indexes], c='blue')\n",
    "ax.set(xlabel='Columna', ylabel='Cantidad de vegetación', title='Máximos locales')\n",
    "# fig.savefig('img/test/histogram_vegetation_smoothed+peaks.png')\n",
    "# plt.show()"
   ]
  },
  {
   "cell_type": "code",
   "execution_count": 43,
   "metadata": {
    "ExecuteTime": {
     "end_time": "2020-02-10T21:21:55.852543Z",
     "start_time": "2020-02-10T21:21:55.848548Z"
    }
   },
   "outputs": [],
   "source": [
    "# Se calculan las rectas de Hough que salen de los puntos iniciales, que cumplan con las condiciones de ángulo\n",
    "# verificar que otras condiciones hay\n",
    "\n",
    "middle = morph.shape[0]-int(morph.shape[0]/2)\n",
    "bottom_image = morph[middle:morph.shape[0], 0:morph.shape[1]]\n",
    "# mostrar_img('bottom', bottom_image)\n",
    "edges = cv2.filter2D(bottom_image, -1, kernel_edge)\n",
    "# mostrar_img('edges conv', edges)"
   ]
  },
  {
   "cell_type": "code",
   "execution_count": 44,
   "metadata": {
    "ExecuteTime": {
     "end_time": "2020-02-10T21:21:55.857548Z",
     "start_time": "2020-02-10T21:21:55.853534Z"
    }
   },
   "outputs": [],
   "source": [
    "# %%timeit -n 10 -r 10\n",
    "# 67.8 ms ± 11.4 ms\n",
    "# Busqueda de líneas con acumulación de vegetación\n",
    "# Hay que reformular, puede dar errores ya que encuentra más vegetación a los costados\n",
    "# Revisar si se puede mejorar y que supere a Hough en desempeño\n",
    "\n",
    "# pixel_step = int(bottom_image.shape[1]/100)\n",
    "# top_x_pos = np.zeros(len(indexes), np.uint16)\n",
    "# veg_amount = np.zeros(len(indexes), np.uint16)\n",
    "# current_x_top = 0\n",
    "# y_top = 0\n",
    "# y_bottom = bottom_image.shape[0]\n",
    "# third_1 = (int)(bottom_image.shape[1]/3)\n",
    "# third_2 = (int)(bottom_image.shape[1]*(2/3))\n",
    "# while (current_x_top < bottom_image.shape[1]):\n",
    "#     for x_bottom in range(0,len(indexes)):\n",
    "#         x0, y0 = current_x_top, y_top\n",
    "#         x1, y1 = indexes[x_bottom], y_bottom\n",
    "#         m = -1 if ((x1-x0) == 0) else (y1-y0)/(x1-x0)\n",
    "#         v_a = -1\n",
    "#         if (m != -1):\n",
    "#             b = (y0 - m * x0)\n",
    "#             x = indexes[x_bottom]\n",
    "#             if (x < third_1 and m < 0.49 and m > 0.2):\n",
    "#                 v_a = get_vegetation_in_line(bottom_image, m, b)\n",
    "#             if (x > third_2 and m > 2.65 and m < 2.92):\n",
    "#                 v_a = get_vegetation_in_line(bottom_image, m, b)\n",
    "#             if (x > third_1 and x < third_2 and (m > 2.75 or m < 0.39)):\n",
    "#                 v_a = get_vegetation_in_line(bottom_image, m, b)\n",
    "#         if veg_amount[x_bottom] < v_a:\n",
    "#             veg_amount[x_bottom] = v_a\n",
    "#             top_x_pos[x_bottom] = current_x_top\n",
    "#     current_x_top = current_x_top + pixel_step"
   ]
  },
  {
   "cell_type": "code",
   "execution_count": 45,
   "metadata": {
    "ExecuteTime": {
     "end_time": "2020-02-10T21:21:55.895423Z",
     "start_time": "2020-02-10T21:21:55.858522Z"
    }
   },
   "outputs": [
    {
     "name": "stdout",
     "output_type": "stream",
     "text": [
      "m:-4.70463 b:952.32733 white amount:55\n",
      "m:14.300667 b:-4644.7305 white amount:69\n",
      "m:2.475086 b:-1105.159 white amount:64\n"
     ]
    }
   ],
   "source": [
    "# %%timeit -n 10 -r 10\n",
    "# 19.3 ms ± 525 µs\n",
    "# Busqueda de líneas con Hough\n",
    "\n",
    "# with_lines = cv2.merge((bottom_image, bottom_image, bottom_image))\n",
    "lines = cv2.HoughLines(edges, 18, np.pi/90, 500)\n",
    "third_1 = (int)(bottom_image.shape[1]/3)\n",
    "third_2 = (int)(bottom_image.shape[1]*(2/3))\n",
    "epsilon = (int)(0.01*bottom_image.shape[1])\n",
    "delta = int(crop_width_bottom/2)\n",
    "upper_limit = indexes + delta\n",
    "lower_limit = indexes - delta\n",
    "groups = {}\n",
    "if type(lines) is np.ndarray:\n",
    "    for line in lines:\n",
    "        for rho, theta in line:\n",
    "            if (np.sin(theta) != 0):\n",
    "                m = -(np.cos(theta)/np.sin(theta))\n",
    "                b = rho/np.sin(theta)\n",
    "                x = int((bottom_image.shape[0]-b)/m)\n",
    "                initial_points_condition = False\n",
    "                group = -1\n",
    "                for i in range(0, len(indexes)):\n",
    "                    if (x <= upper_limit[i] and x >= lower_limit[i]):\n",
    "                        group = i\n",
    "                correct_angle_and_position = (x < third_1 and theta < 0.49 and theta > 0.2) or \\\n",
    "                    (x > third_2 and theta > 2.65 and theta < 2.92) or \\\n",
    "                    (x > third_1 and x < third_2 and (\n",
    "                        theta > 2.75 or theta < 0.39))\n",
    "                if (x > 0 and x < bottom_image.shape[1] and group != -1 and correct_angle_and_position):\n",
    "                    v_a = get_vegetation_in_line(bottom_image, m, b)\n",
    "#                     cv2.line(with_lines, (int(-(b/m)), 0), (int((with_lines.shape[0]-b)/m),\n",
    "#                                                             with_lines.shape[0]), (255, 0, 0), 2)\n",
    "                    if group not in groups.keys():\n",
    "                        groups[group] = Line(m, b, v_a)\n",
    "                    else:\n",
    "                        if (groups[group].white_amount < v_a):\n",
    "                            groups[group] = Line(m, b, v_a)\n",
    "for i in range(0,len(groups)):\n",
    "    print(groups[i])"
   ]
  },
  {
   "cell_type": "code",
   "execution_count": 46,
   "metadata": {
    "ExecuteTime": {
     "end_time": "2020-02-10T21:21:55.899427Z",
     "start_time": "2020-02-10T21:21:55.896420Z"
    }
   },
   "outputs": [],
   "source": [
    "# Dibujar linea para mostrar sector analizado, y guarda\n",
    "\n",
    "# _morph_aux1 = cv2.merge((morph, morph, morph))\n",
    "# _morph_aux1 = cv2.line(_morph_aux1, (0, middle),\n",
    "#                   (morph.shape[1], middle), (0, 0, 255), 1)\n",
    "# for i in range(0, len(indexes)):\n",
    "#     _morph_aux1 = cv2.line(\n",
    "#         _morph_aux1, (indexes[i], 0), (indexes[i], morph.shape[0]), (255, 0, 0), 2)\n",
    "#     _morph_aux1 = cv2.line(\n",
    "#         _morph_aux1, (upper_limit[i], 0), (upper_limit[i], morph.shape[0]), (255, 255, 0), 2)\n",
    "#     _morph_aux1 = cv2.line(\n",
    "#         _morph_aux1, (lower_limit[i], 0), (lower_limit[i], morph.shape[0]), (255, 255, 0), 2)\n",
    "# _morph_aux1 = _morph_aux1[_morph_aux1.shape[0] - h_space:_morph_aux1.shape[0], 0:_morph_aux1.shape[1]]\n",
    "# mostrar_img('line', _morph_aux1)\n",
    "# cv2.imwrite(path_to_imgs + file_name + '_'+ 'segmentToHough' +'.png', _morph_aux1)"
   ]
  },
  {
   "cell_type": "code",
   "execution_count": 47,
   "metadata": {
    "ExecuteTime": {
     "end_time": "2020-02-10T21:21:55.905427Z",
     "start_time": "2020-02-10T21:21:55.900410Z"
    }
   },
   "outputs": [],
   "source": [
    "# Para ver las rectas obtenidas por TH\n",
    "# with_lines = cv2.merge((bottom_image, bottom_image, bottom_image))\n",
    "# for key in groups.keys():\n",
    "#     line = groups.get(key)\n",
    "#     m = line.m\n",
    "#     b = line.b\n",
    "#     y0 = 0\n",
    "#     x0 = int((y0-b)/m)\n",
    "#     y1 = with_lines.shape[0]\n",
    "#     x1 = int((y1-b)/m)\n",
    "#     cv2.line(with_lines, (x0, y0), (x1, y1), (0, 255, 0), 2)\n",
    "\n",
    "# mostrar_img('Lines with hough', with_lines)\n",
    "# cv2.imwrite(path_to_imgs + file_name + '_'+ 'lines' +'.png', with_lines)"
   ]
  },
  {
   "cell_type": "markdown",
   "metadata": {},
   "source": [
    "### Cálculo de centroides\n",
    "* Se utilizan doce segmentos, que se distribuyen cuatro en mitad baja y ocho en la parte alta"
   ]
  },
  {
   "cell_type": "code",
   "execution_count": 48,
   "metadata": {
    "ExecuteTime": {
     "end_time": "2020-02-10T21:21:55.914404Z",
     "start_time": "2020-02-10T21:21:55.906394Z"
    }
   },
   "outputs": [],
   "source": [
    "# Segmentación de la imagen en partes que disminuyen un 5% cuando se avanza hacia arriba\n",
    "\n",
    "divisions = cv2.merge((morph, morph, morph))\n",
    "total_y = morph.shape[0]\n",
    "y_segments_bottom = np.arange(11,15) # Para obtener los 4 segmentos inferiores\n",
    "y_segments_top = np.arange(0,9) # Para obtener los 8 segmentos superiores\n",
    "# Botto: [384, middle], Top: [middle, 0]\n",
    "y_segments_bottom = (np.multiply((np.true_divide(y_segments_bottom, np.sum(y_segments_bottom))), middle)).astype(np.uint16)\n",
    "y_segments_top = (np.multiply((np.true_divide(y_segments_top, np.sum(y_segments_top))), middle)).astype(np.uint16)\n",
    "y_segments_bottom = y_segments_bottom[::-1]\n",
    "y_segments_top = y_segments_top[::-1]\n",
    "y_segments_bottom[0] = y_segments_bottom[0] + middle - np.sum(y_segments_bottom)\n",
    "y_segments_top[0] = y_segments_top[0] + middle - np.sum(y_segments_top)\n",
    "y_segments = np.concatenate((y_segments_bottom[0:len(y_segments_bottom) - 1], y_segments_top[0:len(y_segments_top)]))\n",
    "for i in range(len(y_segments) - 2, -1, -1):\n",
    "    y_segments[i] = y_segments[i] + y_segments[i+1]\n",
    "y_segments = np.concatenate(([morph.shape[0]], y_segments))\n",
    "\n",
    "# Para graficar\n",
    "# for y in y_segments:\n",
    "#     if y > 0:\n",
    "#         if (y >= middle):\n",
    "#             cv2.line(divisions, (0, y),\n",
    "#                      (morph.shape[1], y), (255, 0, 0), 1)\n",
    "#         else:\n",
    "#             cv2.line(divisions, (0, y),\n",
    "#                      (morph.shape[1], y), (0, 255, 0), 1)\n",
    "\n",
    "# print('Una cantidad de ' + str(len(y_segments) - 1) + ' segmentos')\n",
    "# print(y_segments)\n",
    "# mostrar_img('segments', divisions)\n",
    "# cv2.imwrite(path_to_imgs + file_name + '_'+ 'segmentos' +'.png', divisions)"
   ]
  },
  {
   "cell_type": "code",
   "execution_count": 49,
   "metadata": {
    "ExecuteTime": {
     "end_time": "2020-02-10T21:21:55.920386Z",
     "start_time": "2020-02-10T21:21:55.915370Z"
    }
   },
   "outputs": [],
   "source": [
    "# Para ver la primera franja con los segmentos de valores de cada línea de cultivo\n",
    "\n",
    "# bottom_segment = morph[y_segments[1]:y_segments[0],:]\n",
    "# bottom_segment = cv2.merge((bottom_segment, bottom_segment, bottom_segment))\n",
    "# mostrar_img('bottom', bottom_segment)\n",
    "# cv2.imwrite(path_to_imgs + file_name + '_'+ 'parte_baja' +'.png', bottom_segment)\n",
    "# down_ind = indexes - int(crop_width_bottom / 2)\n",
    "# up_ind = indexes + int(crop_width_bottom / 2)\n",
    "# for i in range(0, len(indexes)):\n",
    "#     cv2.line(bottom_segment, (down_ind[i], 0),\n",
    "#                      (down_ind[i], bottom_image.shape[0]), (255, 255, 55), 2)\n",
    "#     cv2.line(bottom_segment, (up_ind[i], 0),\n",
    "#                      (up_ind[i], bottom_image.shape[0]), (255, 255, 55), 2)\n",
    "#     cv2.line(bottom_segment, (indexes[i], 0),\n",
    "#                      (indexes[i], bottom_image.shape[0]), (255, 0, 0), 2)\n",
    "# mostrar_img('abc', bottom_segment)\n",
    "# cv2.imwrite(path_to_imgs + file_name + '_'+ 'parte_baja_con_sectores' +'.png', bottom_segment)"
   ]
  },
  {
   "cell_type": "code",
   "execution_count": 50,
   "metadata": {
    "ExecuteTime": {
     "end_time": "2020-02-10T21:21:55.926372Z",
     "start_time": "2020-02-10T21:21:55.923348Z"
    }
   },
   "outputs": [],
   "source": [
    "# Dibujo de líneas para corroborar con los centroides que se calculan posteriormente\n",
    "\n",
    "# divisions_aux1 = divisions.copy()\n",
    "# img_offset = middle\n",
    "# for key in groups.keys():\n",
    "#     line = groups.get(key)\n",
    "#     m = line.m\n",
    "#     b = line.b + img_offset\n",
    "#     y0 = img_offset\n",
    "#     x0 = int((y0-b)/m)\n",
    "#     y1 = divisions_aux1.shape[0]\n",
    "#     x1 = int((y1-b)/m)\n",
    "#     cv2.line(divisions_aux1, (x0, y0), (x1, y1), (0, 255, 0), 2)\n",
    "# mostrar_img('lineas', divisions_aux1)\n",
    "# cv2.imwrite(path_to_imgs + file_name + '_'+ 'segmentos_con_TH' +'.png', divisions_aux1)"
   ]
  },
  {
   "cell_type": "markdown",
   "metadata": {},
   "source": [
    "#### Cálculo de los centroides de la parte inferior de la imagen"
   ]
  },
  {
   "cell_type": "code",
   "execution_count": 51,
   "metadata": {
    "ExecuteTime": {
     "end_time": "2020-02-10T21:21:56.825608Z",
     "start_time": "2020-02-10T21:21:55.928336Z"
    }
   },
   "outputs": [],
   "source": [
    "# Se calcula el centro del ROI en base a las rectas encontradas por TH\n",
    "# Si el microROI no tiene píxeles blancos se asume que el centro es el centroide\n",
    "# Tres vacios consecutivos en una línea es el tope, sino se descarta la imagen <----------------------- a implementar (se puede realizar con un assertion)\n",
    "\n",
    "# Si se dibujan las rectas para corroborar centroides, comentar estas líneas\n",
    "divisions_aux1 = divisions.copy()\n",
    "img_offset = middle\n",
    "\n",
    "x_centroids_matrix = np.zeros((len(indexes), len(y_segments) - 1), np.uint16)\n",
    "y_centroids_matrix = np.zeros((len(indexes), len(y_segments) - 1), np.uint16)\n",
    "crop_width_top = 15\n",
    "crop_width = crop_width_bottom\n",
    "crop_width_decay_seg = (crop_width_bottom - crop_width_top) / \\\n",
    "    (len(y_segments) - 1)  # (90-30)/12\n",
    "\n",
    "# Ya que la recta está calculada para la parte inferior, es necesario un offset de b para transladarla\n",
    "segment_index = 1\n",
    "while y_segments[segment_index] >= middle:\n",
    "    for key in groups.keys():\n",
    "        # Obtener cada descriptor de línea\n",
    "        line = groups.get(key)\n",
    "        m = line.m\n",
    "        b = line.b + img_offset\n",
    "        y1, y2 = y_segments[segment_index -\n",
    "                            1], y_segments[segment_index]  # Inferior, superior\n",
    "        # El x del inferior, respecto a la recta\n",
    "        x_temp = get_x_in_line(y1, m, b)\n",
    "        # Desplazamientos según ancho de línea\n",
    "        x1, x2 = x_temp - int(crop_width/2), x_temp + int(crop_width/2)\n",
    "        # Pasarle microimagen con desplazamiento en x e y\n",
    "        centroid = MicroROI(morph[y2:y1, x1:x2], x1, y2)\n",
    "        x_centroids_matrix[key, segment_index - 1], y_centroids_matrix[key,\n",
    "                                                                       segment_index - 1] = centroid.get_centroid()\n",
    "        # Dibujar el centroide y la micro ROI\n",
    "        cv2.line(divisions_aux1, (x1, y1), (x1, y2), (255, 255, 0), 1)\n",
    "        cv2.line(divisions_aux1, (x2, y1), (x2, y2), (255, 255, 0), 1)\n",
    "        cv2.circle(\n",
    "            divisions_aux1, (x_centroids_matrix[key, segment_index - 1], y_centroids_matrix[key, segment_index - 1]), 3, (255, 0, 255), 2)\n",
    "        key = key + 1  # Próxima línea\n",
    "    # Nuevo ancho de microROI\n",
    "    crop_width = crop_width - crop_width_decay_seg\n",
    "    segment_index = segment_index + 1  # Próxima franja\n",
    "\n",
    "mostrar_img('divisiones y centroides', divisions_aux1)\n",
    "# cv2.imwrite(path_to_imgs + file_name + '_'+ 'centroides' +'.png', divisions_aux1)\n",
    "# print('pos x')\n",
    "# print(x_centroids_matrix)\n",
    "# print('pos y')\n",
    "# print(y_centroids_matrix)"
   ]
  },
  {
   "cell_type": "code",
   "execution_count": 52,
   "metadata": {
    "ExecuteTime": {
     "end_time": "2020-02-10T21:21:56.832588Z",
     "start_time": "2020-02-10T21:21:56.827602Z"
    }
   },
   "outputs": [],
   "source": [
    "# Dibujar rectas obtenidas por mínimos cuadrados, en conjunto con los centroides obtenidos (los cuatro primeros)\n",
    "\n",
    "# aux_img = divisions_aux1.copy()\n",
    "# crop_width_aux = crop_width\n",
    "# for line_index in range(0, x_centroids_matrix.shape[0]):  # Para cada línea\n",
    "#     # Tomo elementos de [i, i+3] correspondientes a los últimos cuatro centroides\n",
    "#     x_list = x_centroids_matrix[line_index, 0:4]\n",
    "#     y_list = y_centroids_matrix[line_index, 0:4]\n",
    "#     last_centroid = (\n",
    "#         x_centroids_matrix[line_index, 3], y_centroids_matrix[line_index, 3])\n",
    "#     m, b = least_squares_line(x_list, y_list, last_centroid)\n",
    "#     y1, y2 = y_segments[segment_index -\n",
    "#                         1], y_segments[segment_index]  # Inferior, superior\n",
    "#     x1, x2 = get_x_in_line(aux_img.shape[0], m, b), get_x_in_line(y2, m, b)\n",
    "#     cv2.line(aux_img, (x1, aux_img.shape[0]), (x2, y2), (0, 0, 255), 2)\n",
    "#     x_temp = get_x_in_line(y1, m, b)\n",
    "#     # Desplazamientos según ancho de línea\n",
    "#     x1, x2 = x_temp - int(crop_width_aux/2), x_temp + int(crop_width_aux/2)\n",
    "#     # Pasarle microimagen con desplazamiento en x e y\n",
    "#     centroid = MicroROI(morph[y2:y1, x1:x2], x1, y2)\n",
    "#     x_centroids_matrix[line_index, segment_index -\n",
    "#                        1], y_centroids_matrix[line_index, segment_index-1] = centroid.get_centroid()\n",
    "#     # Dibujar el centroide y la micro ROI\n",
    "#     cv2.line(aux_img, (x1, y1), (x1, y2), (255, 255, 0), 1)\n",
    "#     cv2.line(aux_img, (x2, y1), (x2, y2), (255, 255, 0), 1)\n",
    "#     cv2.circle(aux_img, (x_centroids_matrix[line_index, segment_index-1],\n",
    "#                          y_centroids_matrix[line_index, segment_index-1]), 3, (255, 0, 255), 2)\n",
    "\n",
    "# mostrar_img('centroides y recta por mínimos', aux_img)\n",
    "# cv2.imwrite(path_to_imgs + file_name + '_'+ 'centroide_y_TH' +'.png', divisions_aux1)"
   ]
  },
  {
   "cell_type": "markdown",
   "metadata": {},
   "source": [
    "#### Cálculo de los centroides de la parte superior de la imagen"
   ]
  },
  {
   "cell_type": "code",
   "execution_count": 53,
   "metadata": {
    "ExecuteTime": {
     "end_time": "2020-02-10T21:21:57.781114Z",
     "start_time": "2020-02-10T21:21:56.836334Z"
    },
    "cell_style": "center"
   },
   "outputs": [
    {
     "name": "stdout",
     "output_type": "stream",
     "text": [
      "x\n",
      "[[162 170 188 205 212 221 233 241 252 258 259 259]\n",
      " [327 332 330 331 336 346 335 327 328 330 329 328]\n",
      " [510 493 475 459 457 449 436 422 421 412 411 411]]\n",
      "y\n",
      "[[344 296 246 195 160 125  90  65  45  20   9   1]\n",
      " [337 292 246 205 161 130  84  67  31  22   9   1]\n",
      " [340 290 245 202 157 125  87  61  37  20   9   1]]\n"
     ]
    }
   ],
   "source": [
    "# En y llevo el nivel actual, calculos la recta de cada línea con los últimos cuatro centroides\n",
    "# Usar la recta con los últimos cuatro elementos para el ROI del siguiente nivel\n",
    "# Calcula centroides del siguiente nivel y agregarlos en las matrices correspondientes\n",
    "divisions_aux2 = divisions_aux1.copy()\n",
    "# Continuo con el y de la celda anterior, para continuar con los segmentos correspondientes\n",
    "last_centroids_index = 0\n",
    "segment_index_aux = segment_index\n",
    "crop_width_aux = crop_width\n",
    "while segment_index_aux != (len(y_segments)):\n",
    "    for line_index in range(0, x_centroids_matrix.shape[0]):  # Para cada línea\n",
    "        # Tomo elementos de [i, i+3] correspondientes a los últimos cuatro centroides\n",
    "        x_list = x_centroids_matrix[line_index,\n",
    "                                    last_centroids_index:last_centroids_index + 4]\n",
    "        y_list = y_centroids_matrix[line_index,\n",
    "                                    last_centroids_index:last_centroids_index + 4]\n",
    "        last_centroid = (\n",
    "            x_centroids_matrix[line_index, last_centroids_index+3], y_centroids_matrix[line_index, last_centroids_index+3])\n",
    "\n",
    "        m, b = least_squares_line(x_list, y_list, last_centroid)\n",
    "        y1, y2 = y_segments[segment_index_aux -\n",
    "                            1], y_segments[segment_index_aux]  # Inferior, superior\n",
    "#         x1, x2 = get_x_in_line(\n",
    "#             divisions_aux2.shape[0], m, b), get_x_in_line(y2, m, b)\n",
    "#         cv2.line(divisions_aux2,\n",
    "#                  (x1, divisions_aux2.shape[0]), (x2, y2), (0, 0, 255), 2)\n",
    "        x_temp = get_x_in_line(y1, m, b)\n",
    "        # Desplazamientos según ancho de línea\n",
    "        x1, x2 = x_temp - int(crop_width_aux / 2), x_temp + \\\n",
    "            int(crop_width_aux / 2)\n",
    "        # Pasarle microimagen con desplazamiento en x e y\n",
    "        centroid = MicroROI(morph[y2:y1, x1:x2], x1, y2)\n",
    "        x_centroids_matrix[line_index, segment_index_aux-1], y_centroids_matrix[line_index, segment_index_aux-1] = centroid.get_centroid()\n",
    "        # Dibujar el centroide y la micro ROI\n",
    "#         if (line_index == 1):\n",
    "        cv2.line(divisions_aux2, (x1, y1), (x1, y2), (255, 255, 0), 1)\n",
    "        cv2.line(divisions_aux2, (x2, y1), (x2, y2), (255, 255, 0), 1)\n",
    "        cv2.circle(divisions_aux2, (x_centroids_matrix[line_index, segment_index_aux-1], y_centroids_matrix[line_index, segment_index_aux-1]), 3, (255, 0, 255), 2)\n",
    "    segment_index_aux = segment_index_aux + 1  # Próxima franja\n",
    "    crop_width_aux = crop_width_aux - crop_width_decay_seg\n",
    "    last_centroids_index = last_centroids_index + 1\n",
    "\n",
    "print('x')\n",
    "print(x_centroids_matrix)\n",
    "print('y')\n",
    "print(y_centroids_matrix)\n",
    "mostrar_img('centroides', divisions_aux2)\n",
    "# cv2.imwrite(path_to_imgs + file_name + '_'+ 'centroides_hasta_arriba' +'.png', divisions_aux2)"
   ]
  },
  {
   "cell_type": "markdown",
   "metadata": {},
   "source": [
    "#### Utilización de ajuste por mínimos cuadrados\n",
    "* Cálculo de coeficientes de recta: mx+b\n",
    "* Cálculo de coeficientes de cuadrática: ax^2+bx+c (Implementado, pero no se utiliza)"
   ]
  },
  {
   "cell_type": "code",
   "execution_count": 65,
   "metadata": {
    "ExecuteTime": {
     "end_time": "2020-02-10T21:26:24.601223Z",
     "start_time": "2020-02-10T21:26:22.893084Z"
    }
   },
   "outputs": [],
   "source": [
    "# Una vez obtenidos todos los centroides de cada línea se realiza una análisis\n",
    "# de regresión (se puede aplicar a cada conjunto de centroides y obtener los\n",
    "# descriptores de la curva que mejor se adapte)\n",
    "# Utiliza nuevamente mínimos cuadrados, y el calculo del resto para quedarse\n",
    "# con la que mejor se ajuste (recta o cuadrática), se puede detectar la mejor por acumulación de vegetación\n",
    "divisions_aux3 = divisions_aux2.copy()\n",
    "y1, y2 = 0, divisions_aux3.shape[0]\n",
    "y = np.arange(y1, y2)\n",
    "# v_amount_line = 0\n",
    "\n",
    "# Independiente y líneal\n",
    "lineal_coef = np.zeros([x_centroids_matrix.shape[0], 2],\n",
    "                       np.float16)\n",
    "# Independiente, líneal y cuadrático por línea\n",
    "# quadratic_coef = np.zeros([x_centroids_matrix.shape[0], 3], np.float16)\n",
    "\n",
    "for line_index in range(0, x_centroids_matrix.shape[0]):  # Para cada línea\n",
    "    x_list = x_centroids_matrix[line_index, 0:x_centroids_matrix.shape[1]]\n",
    "    y_list = y_centroids_matrix[line_index, 0:y_centroids_matrix.shape[1]]\n",
    "\n",
    "    # Mínimos cuadrados para recta\n",
    "    x_mean = int(mean(x_list))\n",
    "    y_mean = int(mean(y_list))\n",
    "    lineal_coef[line_index, 1], lineal_coef[line_index,\n",
    "                                            0] = least_squares_line(x_list, y_list, (x_mean, y_mean))\n",
    "    ------------------------------------------------------------------------------------------------------\n",
    "#     lineal_coef[line_index, 1], lineal_coef[line_index,\n",
    "#                                             0] = least_squares_line(y_list, x_list, (y_mean, x_mean))\n",
    "#     v_amount_line = v_amount_line + \\\n",
    "#         get_vegetation_in_line(\n",
    "#             morph, lineal_coef[line_index, 1], lineal_coef[line_index, 0])\n",
    "    # Agregar a imagen\n",
    "    \n",
    "    x1, x2 = get_x_in_line(y1, lineal_coef[line_index, 1], lineal_coef[line_index, 0]), get_x_in_line(\n",
    "        y2, lineal_coef[line_index, 1], lineal_coef[line_index, 0])\n",
    "    cv2.line(divisions_aux3, (x1, y1), (x2, y2), (81, 139, 255), 2)\n",
    "\n",
    "#     # Mínimos cuadrados para cuadrática\n",
    "#     quadratic_coef[line_index, 2], quadratic_coef[line_index,\n",
    "#                                                   1], quadratic_coef[line_index, 0] = least_squares_quadratic(x_list, y_list)\n",
    "#     x1_quadratic, x2_quadratic = get_x_in_quadratic(\n",
    "#         y, quadratic_coef[line_index, 2], quadratic_coef[line_index, 1], quadratic_coef[line_index, 0])\n",
    "    # Guardar los x ya que los calculé, para no recalcular luego\n",
    "#     x_quadratic = x1_quadratic if (\n",
    "#         0 < x1_quadratic[0] and x1_quadratic[0] < divisions_aux3.shape[1]) else x2_quadratic\n",
    "#     if (not np.isnan(x_quadratic).any()):\n",
    "#         v_amount_quadratic = v_amount_quadratic + get_vegetation_in_quadratic(\n",
    "#             morph, quadratic_coef[line_index, 2], quadratic_coef[line_index, 1], quadratic_coef[line_index, 0], x_quadratic)\n",
    "# #         Agregar a imagen\n",
    "#         pts = np.zeros((x_quadratic.shape[0], 2), np.uint64)\n",
    "#         for i in range(0, x_quadratic.shape[0]):\n",
    "#             pts[i, 0] = x_quadratic[i]\n",
    "#             pts[i, 1] = y[i]\n",
    "#         cv2.polylines(divisions_aux3, [pts], False, (0, 0, 255), 2)\n",
    "\n",
    "# print(x_centroids_matrix[1,::])\n",
    "# print(y_centroids_matrix[1,::])\n",
    "# print(\"b: \" + str(lineal_coef[1,0]) + \" y m: \" + str(lineal_coef[1,1]))\n",
    "# print('Vegetación en línea: ' + str(v_amount_line))\n",
    "mostrar_img('total', divisions_aux3)\n",
    "# cv2.imwrite(path_to_imgs + file_name + '_'+ 'cuadratica_minimos_cuadrados' +'.png', divisions_aux3)"
   ]
  },
  {
   "cell_type": "markdown",
   "metadata": {},
   "source": [
    "### Filtrado de curvas\n",
    "* Ya que solo se trabaja con rectas, se pospone estos filtros para luego"
   ]
  },
  {
   "cell_type": "code",
   "execution_count": 55,
   "metadata": {
    "ExecuteTime": {
     "end_time": "2020-02-10T21:21:58.972310Z",
     "start_time": "2020-02-10T21:21:58.968314Z"
    }
   },
   "outputs": [],
   "source": [
    "# Selección y verificación (reglas para verificar que sean rectas/cuadráticas\n",
    "#válidas)\n",
    "# 1) Regularidad en el espaciado entre líneas\n",
    "# 2) No intersección dentro del ROI ni extensión por debajo de la imagen\n",
    "\n",
    "\n",
    "\n",
    "\n",
    "\n",
    "\n",
    "#Salteo esta parte para luego, ya que las rectas encontradas con la imagen de prueba no tiene problemas"
   ]
  },
  {
   "cell_type": "markdown",
   "metadata": {},
   "source": [
    "### Generación de máscaras con el uso de curvas descriptoras\n",
    "* Actuamente solamente con rectas"
   ]
  },
  {
   "cell_type": "code",
   "execution_count": 56,
   "metadata": {
    "ExecuteTime": {
     "end_time": "2020-02-10T21:21:59.060816Z",
     "start_time": "2020-02-10T21:21:58.975296Z"
    }
   },
   "outputs": [],
   "source": [
    "# Máscaras según el ancho (90 píxeles a ojo, 20px arriba) de cultivo y de surco\n",
    "# Solo estoy tomando en cuenta la recta, haría falta cambiar esto para utilizar la recta o la cuadrática según corresponda\n",
    "\n",
    "addition = crop_width_bottom * 0.4  # Este porcentaje de ancho es dependiente del tipo de cultivo y el estadío en el que se encuentra\n",
    "\n",
    "crop_mask = np.zeros(\n",
    "    (divisions_aux3.shape[0], divisions_aux3.shape[1]), np.uint8)\n",
    "entre_surco_mask = crop_mask.copy()\n",
    "y1, y2 = 0, crop_mask.shape[0]\n",
    "\n",
    "crop_width = crop_width_bottom + addition\n",
    "crop_width_decay = (crop_width_bottom - crop_width_top) / y2\n",
    "\n",
    "furrow_width_bottom = int(get_mean_distance(np.sort(indexes))) #Es necesario ordenar ya que las rectas pueden no estar en orden de izq a der\n",
    "furrow_width = furrow_width_bottom\n",
    "# Para calcular el promedio del espacio entre entre líneas en el tope\n",
    "indexes_top = np.zeros(indexes.shape)\n",
    "for i_line in range(0, len(lineal_coef)):\n",
    "    indexes_top[i_line] = get_x_in_line(\n",
    "        0, lineal_coef[i_line, 1], lineal_coef[i_line, 0])\n",
    "furrow_width_top = int(get_mean_distance(np.sort(indexes_top))) \n",
    "furrow_width_decay = (furrow_width_bottom - furrow_width_top) / y2"
   ]
  },
  {
   "cell_type": "code",
   "execution_count": 57,
   "metadata": {
    "ExecuteTime": {
     "end_time": "2020-02-10T21:22:01.421720Z",
     "start_time": "2020-02-10T21:21:59.061808Z"
    }
   },
   "outputs": [],
   "source": [
    "#Creación de las máscaras sin superposición\n",
    "for y in range(y2 - 1, y1 - 1, -1):  # Desde la base a la parte superior de la imagen\n",
    "    for x in range(0, crop_mask.shape[1]):\n",
    "        result = is_crop_or_furrow_lineal(\n",
    "            lineal_coef, (x, y), crop_width, furrow_width)\n",
    "        if (result == 1):\n",
    "            crop_mask[y, x] = 255\n",
    "        if (result == -1):\n",
    "            entre_surco_mask[y, x] = 255\n",
    "    crop_width = crop_width - crop_width_decay\n",
    "    furrow_width = furrow_width - furrow_width_decay\n",
    "\n",
    "# mostrar_imgs(['máscara de cultivo', 'máscara de surco'],\n",
    "#              [crop_mask, entre_surco_mask])"
   ]
  },
  {
   "cell_type": "code",
   "execution_count": 58,
   "metadata": {
    "ExecuteTime": {
     "end_time": "2020-02-10T21:22:01.427739Z",
     "start_time": "2020-02-10T21:22:01.422662Z"
    }
   },
   "outputs": [],
   "source": [
    "# Utilizar las máscaras, luego de escalarlas al tamaño original, con AND a la máscara de vegetación\n",
    "# _crop_mask = cv2.resize(crop_mask, None, fx=(1/rs_ratio),fy=(1/rs_ratio), interpolation=cv2.INTER_AREA)\n",
    "# entre_surco_mask = cv2.resize(entre_surco_mask, None, fx=(1/rs_ratio),fy=(1/rs_ratio), interpolation=cv2.INTER_AREA)\n",
    "\n",
    "# cv2.imwrite(path_to_imgs + file_name + '_'+ 'mascara_cultivo' +'.png', _crop_mask)\n",
    "# cv2.imwrite(path_to_imgs + file_name + '_'+ 'mascara_surco' +'.png', entre_surco_mask)\n",
    "\n",
    "# _crop_mask = cv2.bitwise_and(_crop_mask, segmented)\n",
    "# entre_surco_mask = cv2.bitwise_and(entre_surco_mask, segmented)\n",
    "\n",
    "# Para la versión reducida\n",
    "crop_mask_aux1 = cv2.bitwise_and(crop_mask, reducted)\n",
    "furrow_crop_mask_aux1 = cv2.bitwise_and(entre_surco_mask, reducted)\n",
    "# mostrar_imgs(['máscara de cultivo', 'máscara de surco'],\n",
    "#              [crop_mask_aux1, furrow_crop_mask_aux1])\n",
    "\n",
    "# cv2.imwrite(path_to_imgs + file_name + '_'+ 'mascara_cultivo_veg' +'.png', crop_mask_aux1)\n",
    "# cv2.imwrite(path_to_imgs + file_name + '_'+ 'mascara_surco_veg' +'.png', furrow_crop_mask_aux1)"
   ]
  },
  {
   "cell_type": "markdown",
   "metadata": {},
   "source": [
    "### Prueba de distribución\n",
    "* Hace falta aislar píxeles de maleza"
   ]
  },
  {
   "cell_type": "code",
   "execution_count": 59,
   "metadata": {
    "ExecuteTime": {
     "end_time": "2020-02-10T21:22:01.533308Z",
     "start_time": "2020-02-10T21:22:01.428656Z"
    }
   },
   "outputs": [],
   "source": [
    "# Preparación de datos para comparar distribución entre datos de crop y weed\n",
    "\n",
    "# x_v = []\n",
    "# y_v = []\n",
    "# z_v = []\n",
    "# x_w = []\n",
    "# y_w = []\n",
    "# z_w = []\n",
    "# v_data = []\n",
    "# w_data = []\n",
    "# v_i = 0\n",
    "# w_i = 0\n",
    "# tope = 300000\n",
    "# for x in range(0,segmented.shape[1]):\n",
    "#     for y in range(0, segmented.shape[0]):\n",
    "#         if (_crop_mask[y,x] == 255) and (v_i < tope):\n",
    "#             v_i = v_i + 1\n",
    "#             v_data.append(original[y,x])\n",
    "#             x, y, z = original[y,x]\n",
    "#             x_v.append(x)\n",
    "#             y_v.append(y)\n",
    "#             z_v.append(z)\n",
    "# #             v_data.append(original[y,x])\n",
    "#         if (_furrow_crop_mask[y,x] == 255) and (w_i < tope):\n",
    "#             w_i = w_i + 1\n",
    "#             w_data_data.append(original[y,x])\n",
    "#             x, y, z = original[y,x]\n",
    "#             x_w.append(x)\n",
    "#             y_w.append(y)\n",
    "#             z_w.append(z)\n",
    "# #             w_data.append(original[y,x])\n",
    "# x_v = np.array(x_v)\n",
    "# y_v = np.array(y_v)\n",
    "# z_v = np.array(z_v)\n",
    "# x_w = np.array(x_w)\n",
    "# y_w = np.array(y_w)\n",
    "# z_w = np.array(z_w)\n",
    "# v_data = np.array(v_data)\n",
    "# w_data = np.array(w_data)"
   ]
  },
  {
   "cell_type": "code",
   "execution_count": 60,
   "metadata": {
    "ExecuteTime": {
     "end_time": "2020-02-10T21:22:01.542282Z",
     "start_time": "2020-02-10T21:22:01.536300Z"
    }
   },
   "outputs": [],
   "source": [
    "# fix, ax = plt.subplots(1,2, sharey=True)\n",
    "# sns.boxplot(data=v_data, linewidth=2.5, palette='Set3', ax=ax[0])\n",
    "# sns.boxplot(data=w_data, linewidth=2.5, palette='Set1', ax=ax[1])\n",
    "# fig = plt.figure()\n",
    "# ax1 = fig.add_subplot(111, projection='3d')\n",
    "# ax1.scatter(x_v, y_v, z_v, c='g', marker='o')\n",
    "# ax1.scatter(x_w, y_w, z_w, c='r', marker='o')\n",
    "# plt.show()"
   ]
  },
  {
   "cell_type": "markdown",
   "metadata": {},
   "source": [
    "## Clasificación en cuadrantes"
   ]
  },
  {
   "cell_type": "code",
   "execution_count": 61,
   "metadata": {
    "ExecuteTime": {
     "end_time": "2020-02-10T21:22:01.551380Z",
     "start_time": "2020-02-10T21:22:01.544276Z"
    }
   },
   "outputs": [],
   "source": [
    "# Tengo L: líneas y L+1: Surcos\n",
    "# Sabiendo el espaciado entre líneas, puedo calcular en que surco estoy\n",
    "# Tengo los índices de las franjas horizontales\n",
    "\n",
    "# Aplicar apertura o erosiones sobre la máscara de surco\n",
    "#kernel = np.ones((7,7),np.uint8)\n",
    "#apertura = cv2.morphologyEx(img, cv2.MORPH_OPEN, kernel)\n",
    "\n",
    "_furrow_crop_mask_aperture = cv2.morphologyEx(\n",
    "    furrow_crop_mask_aux1, cv2.MORPH_OPEN, kernel, iterations=1)\n",
    "# for i in range(0, 0):\n",
    "#     _furrow_crop_mask_aperture = cv2.morphologyEx(\n",
    "#         _furrow_crop_mask_aperture, cv2.MORPH_OPEN, kernel_vertical, iterations=1)\n",
    "#     _furrow_crop_mask_aperture = cv2.morphologyEx(\n",
    "#         _furrow_crop_mask_aperture, cv2.MORPH_OPEN, kernel_diagonal_1, iterations=1)\n",
    "#     _furrow_crop_mask_aperture = cv2.morphologyEx(\n",
    "#         _furrow_crop_mask_aperture, cv2.MORPH_OPEN, kernel_diagonal_2, iterations=1)\n",
    "#     _furrow_crop_mask_aperture = cv2.morphologyEx(\n",
    "#         _furrow_crop_mask_aperture, cv2.MORPH_OPEN, kernel_horizontal, iterations=1)\n",
    "# mostrar_imgs(['orig', 'apert'], [furrow_crop_mask_aux1,\n",
    "#                                  _furrow_crop_mask_aperture])\n",
    "\n",
    "# Gurdado para hacer comparativa\n",
    "# cv2.imwrite(path_to_imgs + file_name + '_'+ 'apertura1' +'.png', _furrow_crop_mask_aperture)"
   ]
  },
  {
   "cell_type": "code",
   "execution_count": 62,
   "metadata": {
    "ExecuteTime": {
     "end_time": "2020-02-10T21:22:01.557660Z",
     "start_time": "2020-02-10T21:22:01.553667Z"
    }
   },
   "outputs": [],
   "source": [
    "# Aplicar las máscaras de vegetación y de cultivo para clasificar visualmente\n",
    "# _crop_mask_aux = cv2.resize(crop_mask, None, fx=(1/rs_ratio),fy=(1/rs_ratio), interpolation=cv2.INTER_AREA)\n",
    "# _furrow_crop_mask_aux = cv2.resize(_furrow_crop_mask_aperture, None, fx=(1/rs_ratio),fy=(1/rs_ratio), interpolation=cv2.INTER_AREA)\n",
    "# zeros = np.zeros(_crop_mask_aux.shape, np.uint8)\n",
    "# mask = cv2.merge((zeros, _crop_mask_aux, _furrow_crop_mask_aux))\n",
    "# total = cv2.add(original, mask)\n",
    "# mostrar_imgs(['original', 'clasificada'], [original, total], reduction_to_see)\n",
    "# cv2.imwrite(path_to_imgs + file_name + '_'+ 'clasificado' +'.png', total)"
   ]
  },
  {
   "cell_type": "markdown",
   "metadata": {},
   "source": [
    "### Clasificación de maleza por sectores\n",
    "* Se basa en la cantidad de vegetación en surco, luego de aplicar operaciones de eliminación de ruido"
   ]
  },
  {
   "cell_type": "code",
   "execution_count": 63,
   "metadata": {
    "ExecuteTime": {
     "end_time": "2020-02-10T21:22:04.166379Z",
     "start_time": "2020-02-10T21:22:01.559654Z"
    }
   },
   "outputs": [],
   "source": [
    "# Se puede disminuir el costo verificando solo en la parte interna de la máscara de maleza, hace falta conseguir puntos que pertenecen a ella\n",
    "# Con whiles podría quitar varios saltos, comprobaciones y cálculos\n",
    "\n",
    "__furrow_crop_mask = entre_surco_mask.copy()\n",
    "# Itero sobre cada franja\n",
    "for y_index in range(0, len(y_segments) - 1):  # Itera 12 veces, una por segmento\n",
    "    # En cada franja separo en cuadrantes separados por líneas de cultivo (cantidad de líneas + 1)\n",
    "    # En cada cuadrante le sumo la cantidad de vegetación y el tamaño (tamaño tendrá 1 más para no dividir por 0)\n",
    "    weed_amount = np.zeros(lineal_coef.shape[0] + 1, np.uint16)\n",
    "    total_pxls = np.ones(lineal_coef.shape[0] + 1, np.uint16)\n",
    "    x_by_line = np.zeros(lineal_coef.shape[0], np.uint16)\n",
    "    # Obtengo los x de cada línea en la base de la franja, para realizar la separación por cuadrantes\n",
    "    for i in range(0, lineal_coef.shape[0]):  # Itera #L veces\n",
    "        x_by_line[i] = get_x_in_line(\n",
    "            y_segments[y_index], lineal_coef[i, 1], lineal_coef[i, 0])\n",
    "    # Itero en la franja correspondiente\n",
    "    # Itera el alto de segmento (máx es 1/12 * (alto de imagen disminuida))\n",
    "    for y in range(y_segments[y_index + 1], y_segments[y_index]):\n",
    "        furrow_index = 0\n",
    "        x = 0\n",
    "        # Itera máx el ancho de la imagen\n",
    "        while ((furrow_index < len(weed_amount)) and (x < crop_mask.shape[1])):\n",
    "            # Me saco todos los 0's del comienzo, si es que tiene\n",
    "            while ((x < crop_mask.shape[1]) and (entre_surco_mask[y, x] == 0)):\n",
    "                x = x + 1\n",
    "            # Colóco el índice donde pertenece\n",
    "            while ((furrow_index < x_by_line.shape[0]) and (x >= x_by_line[furrow_index])):\n",
    "                furrow_index = furrow_index + 1\n",
    "            while ((x < crop_mask.shape[1]) and (entre_surco_mask[y, x] == 255)):\n",
    "                # Procesamiento dentro de surco\n",
    "                total_pxls[furrow_index] = total_pxls[furrow_index] + 1\n",
    "                if _furrow_crop_mask_aperture[y, x] > 10:\n",
    "                    weed_amount[furrow_index] = weed_amount[furrow_index] + 1\n",
    "                x = x + 1\n",
    "            furrow_index = furrow_index + 1\n",
    "    # Adapto la máscara de surco acorde a si cada cuadrante pasa un porcentaje de maleza\n",
    "    weed_porc = 0.08\n",
    "    weed_amount = np.true_divide(weed_amount, total_pxls)\n",
    "    for y in range(y_segments[y_index + 1], y_segments[y_index]):\n",
    "        furrow_index = 0\n",
    "        x = 0\n",
    "        # Itera máx el ancho de la imagen\n",
    "        while ((furrow_index < len(weed_amount)) and (x < crop_mask.shape[1])):\n",
    "            # Me saco todos los 0's del comienzo, si es que tiene\n",
    "            while ((x < crop_mask.shape[1]) and (entre_surco_mask[y, x] == 0)):\n",
    "                x = x + 1\n",
    "            # Colóco el índice donde pertenece\n",
    "            while ((furrow_index < x_by_line.shape[0]) and (x >= x_by_line[furrow_index])):\n",
    "                furrow_index = furrow_index + 1\n",
    "            if (furrow_index >= len(weed_amount)):\n",
    "                print('fuera de rango y: ' + str(y) + ',x: ' +\n",
    "                      str(x) + 'furr ind: ' + str(furrow_index))\n",
    "            _data = 0 if (furrow_index < len(weed_amount)\n",
    "                          and weed_amount[furrow_index] < weed_porc) else 255\n",
    "            while ((x < crop_mask.shape[1]) and (entre_surco_mask[y, x] == 255)):\n",
    "                __furrow_crop_mask[y, x] = _data\n",
    "                x = x + 1\n",
    "            furrow_index = furrow_index + 1\n",
    "#         weed_porc = weed_porc - weed_porc_red\n",
    "\n",
    "# Sectorización de la máscara\n",
    "__furrow_crop_mask_aux = __furrow_crop_mask.copy()\n",
    "for y in y_segments:\n",
    "    cv2.line(__furrow_crop_mask_aux, (0, y),\n",
    "             (morph.shape[1], y), 255, 1)\n",
    "# mostrar_img('furrow', __furrow_crop_mask_aux)\n",
    "# cv2.imwrite(path_to_imgs + file_name + '_'+ 'Sectores' +'.png', __furrow_crop_mask_aux)\n",
    "\n",
    "# Clasificación sectorizada\n",
    "_crop_mask = cv2.resize(crop_mask, None, fx=(\n",
    "    1/rs_ratio), fy=(1/rs_ratio), interpolation=cv2.INTER_AREA)\n",
    "_furrow_crop_mask_aux = cv2.resize(__furrow_crop_mask, None, fx=(\n",
    "    1/rs_ratio), fy=(1/rs_ratio), interpolation=cv2.INTER_AREA)\n",
    "zeros = np.zeros(_crop_mask.shape, np.uint8)\n",
    "mask = cv2.merge((zeros, _crop_mask, _furrow_crop_mask_aux))\n",
    "total = cv2.add(original, mask)\n",
    "mostrar_imgs(['original', 'clasificada'], [original, total], reduction_to_see)\n",
    "# cv2.imwrite(path_to_imgs + file_name + '_'+ 'clasificado_sectores' +'.png', total)"
   ]
  },
  {
   "cell_type": "code",
   "execution_count": null,
   "metadata": {
    "ExecuteTime": {
     "end_time": "2020-02-10T18:06:03.842302Z",
     "start_time": "2020-02-10T18:06:03.837315Z"
    }
   },
   "outputs": [],
   "source": []
  }
 ],
 "metadata": {
  "kernelspec": {
   "display_name": "Python 3",
   "language": "python",
   "name": "python3"
  },
  "language_info": {
   "codemirror_mode": {
    "name": "ipython",
    "version": 3
   },
   "file_extension": ".py",
   "mimetype": "text/x-python",
   "name": "python",
   "nbconvert_exporter": "python",
   "pygments_lexer": "ipython3",
   "version": "3.7.5"
  },
  "toc": {
   "base_numbering": 1,
   "nav_menu": {},
   "number_sections": true,
   "sideBar": true,
   "skip_h1_title": false,
   "title_cell": "Table of Contents",
   "title_sidebar": "Contents",
   "toc_cell": false,
   "toc_position": {},
   "toc_section_display": true,
   "toc_window_display": false
  },
  "varInspector": {
   "cols": {
    "lenName": 16,
    "lenType": 16,
    "lenVar": 40
   },
   "kernels_config": {
    "python": {
     "delete_cmd_postfix": "",
     "delete_cmd_prefix": "del ",
     "library": "var_list.py",
     "varRefreshCmd": "print(var_dic_list())"
    },
    "r": {
     "delete_cmd_postfix": ") ",
     "delete_cmd_prefix": "rm(",
     "library": "var_list.r",
     "varRefreshCmd": "cat(var_dic_list()) "
    }
   },
   "position": {
    "height": "1148.2px",
    "left": "2261px",
    "right": "20px",
    "top": "284px",
    "width": "574.8px"
   },
   "types_to_exclude": [
    "module",
    "function",
    "builtin_function_or_method",
    "instance",
    "_Feature"
   ],
   "window_display": false
  }
 },
 "nbformat": 4,
 "nbformat_minor": 2
}
